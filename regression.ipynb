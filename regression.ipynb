{
 "cells": [
  {
   "cell_type": "code",
   "execution_count": 3,
   "metadata": {},
   "outputs": [
    {
     "data": {
      "text/plain": [
       "'C:\\\\Users\\\\LENOVO\\\\Desktop\\\\PYTHON\\\\VERİ BİLİMİ'"
      ]
     },
     "execution_count": 3,
     "metadata": {},
     "output_type": "execute_result"
    }
   ],
   "source": [
    "import os\n",
    "os.getcwd()"
   ]
  },
  {
   "cell_type": "code",
   "execution_count": 4,
   "metadata": {},
   "outputs": [],
   "source": [
    "os.chdir(\"C:\\\\Users\\\\LENOVO\\\\Desktop\\\\PYTHON\\\\VERİ BİLİMİ\\\\bootcamp_ödev_finans_verisi\")"
   ]
  },
  {
   "cell_type": "code",
   "execution_count": 5,
   "metadata": {},
   "outputs": [
    {
     "name": "stdout",
     "output_type": "stream",
     "text": [
      "Requirement already satisfied: researchpy in c:\\users\\lenovo\\anaconda3\\lib\\site-packages (0.2.3)\n",
      "Requirement already satisfied: scipy in c:\\users\\lenovo\\anaconda3\\lib\\site-packages (from researchpy) (1.1.0)\n",
      "Requirement already satisfied: pandas in c:\\users\\lenovo\\anaconda3\\lib\\site-packages (from researchpy) (0.23.4)\n",
      "Requirement already satisfied: statsmodels in c:\\users\\lenovo\\anaconda3\\lib\\site-packages (from researchpy) (0.9.0)\n",
      "Requirement already satisfied: numpy in c:\\users\\lenovo\\anaconda3\\lib\\site-packages (from researchpy) (1.19.1)\n",
      "Requirement already satisfied: python-dateutil>=2.5.0 in c:\\users\\lenovo\\anaconda3\\lib\\site-packages (from pandas->researchpy) (2.7.5)\n",
      "Requirement already satisfied: pytz>=2011k in c:\\users\\lenovo\\anaconda3\\lib\\site-packages (from pandas->researchpy) (2018.7)\n",
      "Requirement already satisfied: six>=1.5 in c:\\users\\lenovo\\anaconda3\\lib\\site-packages (from python-dateutil>=2.5.0->pandas->researchpy) (1.12.0)\n"
     ]
    }
   ],
   "source": [
    "import numpy as np\n",
    "import pandas as pd \n",
    "import statsmodels.api as sm\n",
    "import statsmodels.formula.api as smf\n",
    "import seaborn as sns\n",
    "from sklearn.preprocessing import scale \n",
    "from sklearn.model_selection import train_test_split, GridSearchCV, cross_val_score\n",
    "from sklearn.metrics import confusion_matrix, accuracy_score, classification_report\n",
    "from sklearn.metrics import roc_auc_score,roc_curve\n",
    "import statsmodels.formula.api as smf\n",
    "import matplotlib.pyplot as plt\n",
    "from sklearn.neighbors import KNeighborsClassifier\n",
    "from sklearn.discriminant_analysis import LinearDiscriminantAnalysis\n",
    "from sklearn.linear_model import LogisticRegression\n",
    "!pip install researchpy\n",
    "import researchpy as rp"
   ]
  },
  {
   "cell_type": "markdown",
   "metadata": {},
   "source": [
    "# Verisetine İlk Bakışı Atmamızı Sağlayacak Olan Class"
   ]
  },
  {
   "cell_type": "code",
   "execution_count": null,
   "metadata": {},
   "outputs": [],
   "source": [
    "class Information():\n",
    "    def __init__(self,data):\n",
    "        self.data = data\n",
    "        \n",
    "    \n",
    "    def info(self):\n",
    "        print(data.info())\n",
    "        \n",
    "    \n",
    "    def copy(self):\n",
    "        data1 = data.copy()\n",
    "        data2 = data.copy()\n",
    "    \n",
    "    def describe(self):\n",
    "        \n",
    "        return data.describe()\n",
    "        \n",
    "    def shape(self):\n",
    "        \n",
    "        #type(data)\n",
    "        print(data.axes)\n",
    "        #print(self.data.axes)\n",
    "        #print(\" ndim = \" + str(data.ndim))\n",
    "        print(\" Veri şekli = \" + str(data.shape))\n",
    "        print(\" Veri büyüklüğü = \" + str(data.size))\n",
    "        #type(data.values)\n",
    "    \n",
    "    def head(self,row = None):\n",
    "        \n",
    "        return data.head(5)\n",
    "        # print(data.tail(3))\n",
    "        \n",
    "    def hedef_degisken(self):\n",
    "        \n",
    "        print(\"**********************************\")\n",
    "        print(\" 90_target Değişkeninin incelenmesi\")\n",
    "        print(\"Ortalama: \" + str(data[\"90_target\"].mean()))\n",
    "        print(\"Dolu Gözlem Sayısı: \" + str(data[\"90_target\"].count())) \n",
    "        print(\"Maksimum Değer: \" + str(data[\"90_target\"].max()))\n",
    "        print(\"Minimum Değer: \" + str(data[\"90_target\"].min()))\n",
    "        print(\"Medyan: \" + str(data[\"90_target\"].median()))\n",
    "        print(\"Standart Sapma: \" + str(data[\"90_target\"].std()))"
   ]
  },
  {
   "cell_type": "markdown",
   "metadata": {},
   "source": [
    "# VERİ GÖRSELLEŞTİRME\n",
    "\n",
    "### Bu class içerisinde incelemek istediğimiz değişkenleri görselleştirerek daha yakından tanıma fırsatı buluyoruz."
   ]
  },
  {
   "cell_type": "code",
   "execution_count": 6,
   "metadata": {},
   "outputs": [],
   "source": [
    "class Visualization():\n",
    "    def __init__(self,data):\n",
    "        self.data = data\n",
    "        \n",
    "    def visual(self):\n",
    "        data[\"ind_109\"].value_counts().plot.barh().set_title(\"Job Değişkeninin Sınıf Frekansları\");\n",
    "    \n",
    "    def countplot(self):\n",
    "        sns.countplot(x=\"ind_109\", data=data, palette=\"bwr\")\n",
    "        plt.show()\n",
    "        \n",
    "    def probplot(self):\n",
    "        \n",
    "        import statsmodels.api as sm\n",
    "        import pylab\n",
    "        import scipy.stats as stats\n",
    "        stats.probplot(data[\"ind_18\"],dist = \"norm\" , plot = pylab) # normal probability plot\n",
    "        pylab.show()\n",
    "        \n",
    "    def scatterplot(self):\n",
    "        data.plot.scatter(\"90_target\",\"ind_18\");\n",
    "        \n",
    "    def distplot(self):\n",
    "        sns.distplot(data[\"90_target\"], kde = False);\n",
    "        \n",
    "    def pairplot(self):\n",
    "        \n",
    "        #sns.pairplot(data);\n",
    "        pass\n",
    "        \n",
    "    def pivotTable(self):\n",
    "        \n",
    "        # print(data.pivot_table(\"...\",index = \"...\",columns = \"...\"))\n",
    "        \n",
    "        pass"
   ]
  },
  {
   "cell_type": "markdown",
   "metadata": {},
   "source": [
    "# İSTATİSTİK"
   ]
  },
  {
   "cell_type": "code",
   "execution_count": 7,
   "metadata": {},
   "outputs": [],
   "source": [
    "class stats():\n",
    "    def __init__(self,data):\n",
    "        self.data = data\n",
    "        \n",
    "    def imports(self):\n",
    "        \n",
    "        import scipy.stats as stats\n",
    "        import statsmodels.stats.api as sms\n",
    "        import pylab\n",
    "        from scipy.stats.stats import pearsonr\n",
    "        import researchpy as rp\n",
    "        \n",
    "    \n",
    "    def table(self):\n",
    "        \n",
    "        print(rp.summary_cont(data[[\"ind_5\",\"ind_6\"]])) \n",
    "        \n",
    "        print(\"*******************************\")\n",
    "        \n",
    "        print(rp.summary_cat(data[\"ind_109\"]))\n",
    "        \n",
    "        print(\"*******************************\")\n",
    "        \n",
    "       \n",
    "        \n",
    "    def shapiro(self):\n",
    "        \n",
    "        import scipy.stats as stats\n",
    "        from scipy.stats import shapiro\n",
    "        test, p_value = shapiro(data[\"90_target\"])\n",
    "        \n",
    "        print(\"Varsayım kontrolünde pvalue = \" + str(p_value))\n",
    "        \n",
    "        \n",
    "        if p_value > 0.05:\n",
    "            print(\"Örnek dağılımı ile teorik normal dağılım arasında ist. ol. anl. bir fark. yoktur.\")\n",
    "        else:\n",
    "            print(\"Örnek dağılımı ile teorik normal dağılım arasında ist. ol. anl. bir fark. vardır.\")\n",
    "        \n",
    "        test_istatistigi, pvalue = stats.ttest_1samp(data[\"90_target\"], popmean = 10000)\n",
    "        print(\"pvalue = \" + str(pvalue))\n",
    "        \n",
    "        if pvalue > 0.05 :\n",
    "            print(\"H0 hipotezimiz reddedilemez.\")\n",
    "        else:\n",
    "            print(\"H0 hipotezimiz reddelir.\")   \n",
    "        \n",
    "        \n",
    "        \n",
    "    def qqplot(self):\n",
    "        import pylab\n",
    "        import scipy.stats as stats\n",
    "        stats.probplot(data[\"90_target\"], dist=\"norm\", plot=pylab)\n",
    "        pylab.show()\n",
    "        \n",
    "    def korelasyon_analiz(self):\n",
    "        \n",
    "        \n",
    "        data.plot.scatter(\"90_target\",\"ind_424\");\n",
    "\n",
    "        print(data[\"90_target\"].corr(data[\"ind_424\"])) # parametrik karşılığı\n",
    "        \n",
    "        # Hedef değişken 90_target için analiz\n",
    "        \n",
    "        print(data.corr()['90_target'].abs().sort_values(ascending=False))\n",
    "        \n",
    "        \n",
    "    def korelasyon_map(self):\n",
    "        \n",
    "        corr = data.corr()\n",
    "        # print(corr)\n",
    "        # sns.heatmap(corr, \n",
    "        #xticklabels=corr.columns.values,\n",
    "        #yticklabels=corr.columns.values)\n",
    "        \n",
    "        fig,ax = plt.subplots(figsize=(15, 15))\n",
    "        sns.heatmap(data.corr(), ax=ax, annot=True, linewidths=0.05, fmt= '.2f',cmap=\"magma\")\n",
    "        plt.show()"
   ]
  },
  {
   "cell_type": "code",
   "execution_count": 250,
   "metadata": {},
   "outputs": [],
   "source": [
    "class PreProcessing():\n",
    "    def __init__(self,data):\n",
    "        self.data = data\n",
    "        \n",
    "    \n",
    "    def copy_data(self):\n",
    "        \n",
    "        data2 = data.copy()\n",
    "        data3 = data.copy()\n",
    "        \n",
    "    def outlier(self):\n",
    "        \n",
    "        t_data = data.dropna() # Eksik gözlemleri sildik. Aykırı gözlemleri rahatça görebilmek için.\n",
    "        print(t_data.head())\n",
    "        \n",
    "        # Bir tane gözlemimi alıyorum.\n",
    "        data_target = t_data[\"90_target\"]\n",
    "        sns.boxplot(x = data_target);\n",
    "        \n",
    "        Q1 = data_target.quantile(0.25)\n",
    "        Q3 = data_target.quantile(0.75)\n",
    "        IQR = Q3-Q1\n",
    "       \n",
    "        \n",
    "        print(\" IQR = \" + str(Q3-Q1))\n",
    "        print(\" Alt Sınır = \" + str(Q1- 1.5*IQR))\n",
    "        print(\" Üst Sınır = \" + str(Q3 + 1.5*IQR))\n",
    "        print(data_target.median())\n",
    "       \n",
    "        # Daha sonra aykırı değeri Baskılama ve ya Ortalama yöntemi ile doldurma işlemleri\n",
    "    \n",
    "    def MissingValue(self):\n",
    "        \n",
    "        print(data.isnull().sum())\n",
    "        #print(data.isnull())\n",
    "        #print(data[data.isnull().any(axis = 1)]) # Eksik değer olan satırlara erişmek\n",
    "        \n",
    "        # Bir gözlemi örnek alıyorum.\n",
    "        # data[\"loan\"]\n",
    "        # data[\"loan\"].mean()\n",
    "        # print(data[\"loan\"].fillna(data[\"loan\"].mean())) # fillna doldurma işlemi için yapılıyor.\n",
    "        \n",
    "        # data.isna().values.any() #Kalan NaN değeri var mı kontrol etmek için\n",
    "     \n",
    "    def dropNa(self):\n",
    "        data.dropna(inplace = True) # tüm eksik gözlemlerin silinmesi\n",
    "        return data.isnull().sum()     \n",
    "    \n",
    "    def fillna(self):\n",
    "        \n",
    "        self.X.fillna(self.X.mean()[:],inplace = True) # eksik değerleri ortalama yöntemi ile doldurma\n",
    "        \n",
    "        # kategorik\n",
    "        \n",
    "        print(\" En sık tekrarlanan değişken:\" + str(self.X[\"ind_109_GREEN\"].mode()[0]))\n",
    "        self.X[\"ind_109_GREEN\"].fillna(self.X[\"ind_109_GREEN\"].mode()[0],inplace = True)\n",
    "        print(\" En sık tekrarlanan değişken:\" + str(self.X[\"ind_109_RED\"].mode()[0]))\n",
    "        self.X[\"ind_109_RED\"].fillna(self.X[\"ind_109_RED\"].mode()[0],inplace = True)\n",
    "        self.X = data.drop([\"ind_109\"],axis =1)\n",
    "        return data.head()\n",
    "        \n",
    "    def scale(self):\n",
    "        from sklearn.preprocessing import StandardScaler  \n",
    "        scaler = StandardScaler()\n",
    "        scaler.fit(self.X_train)\n",
    "        self.X_train_scaled = scaler.transform(self.X_train)\n",
    "        self.X_test_scaled = scaler.transform(self.X_test)\n",
    "        \n",
    "    \n",
    "    def normalize(self):\n",
    "        \n",
    "        from sklearn import preprocessing\n",
    "        preprocessing.normalize(self.X)\n",
    "        \n",
    "        \n",
    "    def dummies(self):\n",
    "        \n",
    "        # Veri setinin hikayesini bilmediğim için şimdilik object değişkenleri siliyorum.\n",
    "        # Bu object değişkenler önemli değişkenler de olabilir.\n",
    "\n",
    "        \n",
    "        cat = pd.get_dummies(data[['ind_109']])\n",
    "        self.y = data[\"90_target\"]\n",
    "        \n",
    "        self.X = pd.concat([data, cat[[\"ind_109_GREEN\",\"ind_109_RED\"]]])\n",
    "        return self.X.head(3)\n",
    "        \n",
    "        \n",
    "    def onhazirlik(self): # burada DUMMIES yapmazsak modele sokulacak target değişken ve çıkarılması gereken değişkenler \n",
    "        \n",
    "        self.X = self.X.dropna(inplace = True)\n",
    "        self.y = data[\"90_target\"]\n",
    "        self.X = data.drop([\"90_target\",\"50_target\",\"20_target\",\"ind_109\",\"ind_420\",\"ind_422\"],axis = 1)\n",
    "        \n",
    "        return self.X.head(3)\n",
    "        \n",
    "        \n",
    "    \n",
    "    \n",
    "    def train_test_split(self):\n",
    "        \n",
    "        self.X_train, self.X_test, self.y_train, self.y_test = train_test_split(self.X, self.y, \n",
    "                                                                                test_size = 0.20,\n",
    "                                                                                random_state = 42)\n",
    "    \n",
    "    \n",
    "    def pca(self):\n",
    "        \n",
    "        from sklearn.linear_model import LinearRegression\n",
    "        \n",
    "        from sklearn.decomposition import PCA\n",
    "        from sklearn.preprocessing import scale \n",
    "        self.pca = PCA(4)\n",
    "        self.X_reduced_train = self.pca.fit_transform(scale(self.X_train))\n",
    "        self.X_reduced_test = self.pca.fit_transform(scale(self.X_test))\n",
    "        \n",
    "        import matplotlib.pyplot as plt\n",
    "        features = range(self.pca.n_components_)\n",
    "        plt.figure(figsize=(20,15))\n",
    "        plt.bar(features, self.pca.explained_variance_ratio_, color = 'black')\n",
    "        plt.xlabel('PCA Features')\n",
    "        plt.ylabel('variance%')\n",
    "        # plt.xticks(features)\n",
    "        \n",
    "        self.lm = LinearRegression()\n",
    "        self.pcr_model = self.lm.fit(self.X_reduced_train, self.y_train)\n",
    "        \n",
    "        from sklearn.metrics import mean_squared_error, r2_score\n",
    "        \n",
    "        self.y_pred = self.pcr_model.predict(self.X_reduced_train)\n",
    "        self.pcr_rmse_train = np.sqrt(mean_squared_error(self.y_train, self.y_pred))\n",
    "        print(\" TRAIN PCR RMSE:\"+ str(self.pcr_rmse_train))\n",
    "        \n",
    "        self.y_pred_test = self.pcr_model.predict(self.X_reduced_test)\n",
    "        self.pcr_rmse_test = np.sqrt(mean_squared_error(self.y_test, self.y_pred_test))\n",
    "        print(\" TEST PCR RMSE:\"+ str(self.pcr_rmse_test))\n",
    "        \n",
    "\n",
    "        \n",
    "        \n",
    "        return np.cumsum(np.round(self.pca.explained_variance_ratio_, decimals = 4)*100)\n",
    "    \n",
    "    \n",
    "        \n",
    "    def lineer(self):\n",
    "        \n",
    "        self.X = data[\"ind_18\"]\n",
    "        self.y = data[\"90_target\"]\n",
    "        self.lm= sm.OLS(self.y,self.X) # burada normalite varsayımına gerek duymuyoruz.\n",
    "        self.model = self.lm.fit()\n",
    "        print(\"f_pvalue:\" + str(self.model.f_pvalue))\n",
    "        lineer_r = self.model.rsquared_adj\n",
    "        print(\"r square:\"  + str(self.model.rsquared_adj))\n",
    "        \n",
    "        self.model.fittedvalues[0:5]\n",
    "        # Artıklar ve önemi\n",
    "        from sklearn.metrics import mean_squared_error, r2_score\n",
    "        self.mse = mean_squared_error(self.y, self.model.fittedvalues)\n",
    "        self.rmse = np.sqrt(self.mse)\n",
    "        print(\"rmse:\" + str(self.rmse))\n",
    "        \n",
    "        self.model.resid[0:10] # hatalar\n",
    "        plt.plot(self.model.resid) \n",
    "        \n",
    "        \n",
    "        return self.model.summary()\n",
    "        \n",
    "        # Modelin anlamlılığına ilişkin p value değeri. Çok küçükse model anlamlıdır.\n",
    "        # çok yüksek çıksaydı modele giren değişkenlerin hiçbir anlamı yok yani X'lerin bi etkisi yok gibi \n",
    "        # Hepsinin beta'sı sıfır gibi katsayıları yani..\n",
    "     \n",
    "    def multi_lineer(self):\n",
    "        \n",
    "        from sklearn.metrics import mean_squared_error, r2_score\n",
    "        import seaborn as sns\n",
    "        self.lm = sm.OLS(self.y_train, self.X_reduced_train)\n",
    "        self.model = self.lm.fit()\n",
    "        self.influence = self.model.get_influence() \n",
    "        \n",
    "        self.resid_student = self.influence.resid_studentized_external \n",
    "        (cooks,p)=self.influence.cooks_distance\n",
    "        (dffits,p)=self.influence.dffits\n",
    "        self.leverage=self.influence.hat_matrix_diag\n",
    "        print('Leverag v.s. Studentized Residuals')\n",
    "        sns.regplot(self.leverage, self.model.resid_pearson, fit_reg=False) #hatalarımın dağılımını görüyorum.\n",
    "        self.rmse = np.sqrt(mean_squared_error(self.y_test, self.model.predict(self.X_reduced_test)))\n",
    "        print(\"rmse:\"+ str(self.rmse))\n",
    "        return self.model.summary().tables[1]\n",
    "    \n",
    "    def error_test(self):\n",
    "        \n",
    "        import seaborn as sns \n",
    "        import pandas as pd\n",
    "        import numpy as np\n",
    "        \n",
    "        self.advres = pd.concat([data , pd.Series(self.model.resid, name = 'resid'), pd.Series(self.model.predict(), name = \"predict\")], axis = 1)\n",
    "        sns.kdeplot(np.array(self.advres.resid), bw=10)\n",
    "        \n",
    "    def qqplot_error(self):\n",
    "        import statsmodels.api as sm\n",
    "        sm.qqplot(self.advres.resid)\n",
    "        plt.show()\n",
    "        \n",
    "        \n",
    "    def SVR(self):\n",
    "        from sklearn.svm import SVR\n",
    "        from sklearn.metrics import mean_squared_error, r2_score\n",
    "        self.svr_model = SVR(\"linear\").fit(self.X_reduced_train, self.y_train)\n",
    "        self.y_pred = self.svr_model.predict(self.X_reduced_test)\n",
    "        self.rmse_svr = np.sqrt(mean_squared_error(self.y_test, self.y_pred))\n",
    "        print(\"SVR RMSE:\"+ str(self.rmse_svr))\n",
    "        \n",
    "        \n",
    "    def ModelTuningSVR(self):\n",
    "        from sklearn.svm import SVR\n",
    "        from sklearn.metrics import mean_squared_error, r2_score\n",
    "        \n",
    "        self.svr_params = {\"C\": np.arange(0.1,2,0.1)}\n",
    "        self.svr_cv_model = GridSearchCV(self.svr_model, self.svr_params, cv = 3,n_jobs = -1, verbose = 2).fit(self.X_reduced_train,self.y_train)\n",
    "\n",
    "        print(\"En iyi parametreler: \" + str(self.svr_cv_model.best_params_))\n",
    "        \n",
    "        self.svr_tuned = SVR(\"linear\", \n",
    "                        C = self.svr_cv_model.best_params_[\"C\"]).fit(self.X_reduced_train, self.y_train)\n",
    "        \n",
    "        self.y_pred = self.svr_tuned.predict(self.X_reduced_test)\n",
    "        self.rmse_svr_tuned = np.sqrt(mean_squared_error(self.y_test, self.y_pred))\n",
    "        \n",
    "        print(\" TUNED SVR RMSE:\"+ str(self.rmse_svr_tuned))\n",
    "        \n",
    "    def RBF(self):\n",
    "        from sklearn.svm import SVR\n",
    "        from sklearn.metrics import mean_squared_error, r2_score\n",
    "        self.svr_rbf = SVR(\"rbf\").fit(self.X_reduced_train, self.y_train)\n",
    "        self.y_pred = self.svr_rbf.predict(self.X_reduced_test)\n",
    "        self.rmse_rbf_svr = np.sqrt(mean_squared_error(self.y_test, self.y_pred))\n",
    "        print(\"RBF RMSE:\"+ str(self.rmse_rbf_svr))\n",
    "    \n",
    "    def ModelTuningRBF(self):\n",
    "        \n",
    "        from sklearn.svm import SVR\n",
    "        from sklearn.metrics import mean_squared_error, r2_score\n",
    "        self.svr_params = {\"C\": [0.1,0.4,5,15]}\n",
    "        self.svr_rbf = SVR(\"rbf\").fit(self.X_reduced_train, self.y_train)\n",
    "        self.svr_cv_model = GridSearchCV(self.svr_rbf,self.svr_params, cv = 3,n_jobs = -1, verbose = 2)\n",
    "        self.svr_cv_model.fit(self.X_reduced_train, self.y_train)\n",
    "        print(\"En iyi parametreler: \" + str(self.svr_cv_model.best_params_))\n",
    "        self.svr_tuned = SVR(\"rbf\", C = self.svr_cv_model.best_params_[\"C\"]).fit(self.X_reduced_train, self.y_train)\n",
    "        self.y_pred = self.svr_tuned.predict(self.X_reduced_test)\n",
    "\n",
    "        self.rmse_rbf_tuned = np.sqrt(mean_squared_error(self.y_test, self.y_pred))\n",
    "         \n",
    "        print(\" TUNED RBF RMSE:\"+ str(self.rmse_rbf_tuned))\n",
    "\n",
    "    \n",
    "    \n",
    "    def MLPR(self):\n",
    "        from sklearn.metrics import mean_squared_error, r2_score\n",
    "        from sklearn.neural_network import MLPRegressor\n",
    "        self.mlp_model = MLPRegressor(hidden_layer_sizes = (100,20)).fit(self.X_reduced_train, self.y_train)\n",
    "        self.y_pred = self.mlp_model.predict(self.X_reduced_test)\n",
    "        self.rmse_mlp = np.sqrt(mean_squared_error(self.y_test, self.y_pred))\n",
    "        print(\"MLPR RMSE:\"+ str(self.rmse_mlp))\n",
    "        \n",
    "    def ModelTuning_MLPR(self):\n",
    "        \n",
    "        from sklearn.neural_network import MLPRegressor\n",
    "        from sklearn.metrics import mean_squared_error, r2_score\n",
    "        self.mlp_params = {'alpha': [0.1,0.02,0.005],\n",
    "                      'hidden_layer_sizes': [(20,20),(100,50,150),(300,200,150)],\n",
    "                      'activation': ['relu','logistic']}\n",
    "        self.mlp_cv_model = GridSearchCV(self.mlp_model, self.mlp_params, cv = 3,n_jobs = -1 , verbose =2)\n",
    "        self.mlp_cv_model.fit(self.X_reduced_train, self.y_train)\n",
    "        print(\"En iyi parametreler: \" + str(self.mlp_cv_model.best_params_))\n",
    "        \n",
    "        self.mlp_tuned = MLPRegressor(alpha = self.mlp_cv_model.best_params_[\"alpha\"] , hidden_layer_sizes = self.mlp_cv_model.best_params_[\"hidden_layer_sizes\"],\n",
    "                        activation = self.mlp_cv_model.best_params_[\"activation\"])\n",
    "        self.mlp_tuned.fit(self.X_reduced_train, self.y_train)\n",
    "        self.y_pred = self.mlp_tuned.predict(self.X_reduced_test)\n",
    "        self.rmse_mlp_tuned = np.sqrt(mean_squared_error(self.y_test, self.y_pred))\n",
    "        print(\" TUNED MLP RMSE:\"+ str(self.rmse_mlp_tuned))\n",
    "\n",
    "    \n",
    "    def gradientboost(self):\n",
    "        \n",
    "        from sklearn.metrics import mean_squared_error, r2_score\n",
    "        from sklearn.ensemble import GradientBoostingRegressor\n",
    "        self.gbm_model = GradientBoostingRegressor()\n",
    "        self.gbm_model.fit(self.X_reduced_train, self.y_train)\n",
    "        # Tahmin\n",
    "        self.y_pred = self.gbm_model.predict(self.X_reduced_test)\n",
    "        self.rmse_gbm = np.sqrt(mean_squared_error(self.y_test, self.y_pred))\n",
    "        print(\"GBM RMSE:\"+ str(self.rmse_gbm))\n",
    "     \n",
    "    def ModelTuning_gradientboost(self):\n",
    "        \n",
    "        from sklearn.ensemble import GradientBoostingRegressor\n",
    "        from sklearn.metrics import mean_squared_error, r2_score\n",
    "        self.gbm_params = {'learning_rate': [0.01, 0.1, 0.2],\n",
    "                      'max_depth': [3, 5,50,100],\n",
    "                      'n_estimators': [200, 500, 1000],\n",
    "                      'subsample': [1,0.5,0.75],\n",
    "                     }\n",
    "        \n",
    "        self.gbm = GradientBoostingRegressor()\n",
    "        self.gbm_cv_model = GridSearchCV(self.gbm, self.gbm_params, cv = 2, n_jobs = -1, verbose = 2)\n",
    "        self.gbm_cv_model.fit(self.X_reduced_train, self.y_train)\n",
    "        print(\"En iyi parametreler: \" + str(self.gbm_cv_model.best_params_))\n",
    "        \n",
    "        self.gbm_tuned = GradientBoostingRegressor(learning_rate = self.gbm_cv_model.best_params_[\"learning_rate\"],  \n",
    "                                                   max_depth = self.gbm_cv_model.best_params_[\"max_depth\"], \n",
    "                                                   n_estimators = self.gbm_cv_model.best_params_[\"n_estimators\"], \n",
    "                                                   subsample = self.gbm_cv_model.best_params_[\"subsample\"])\n",
    "\n",
    "        self.gbm_tuned = self.gbm_tuned.fit(self.X_reduced_train,self.y_train)\n",
    "        self.y_pred = self.gbm_tuned.predict(self.X_reduced_test)\n",
    "        self.rmse_gbm_tuned = np.sqrt(mean_squared_error(self.y_test, self.y_pred))\n",
    "        print(\" TUNED GBM RMSE:\"+ str(self.rmse_gbm_tuned))\n",
    "     \n",
    "    \n",
    "    def KNN(self):\n",
    "        from sklearn.metrics import mean_squared_error, r2_score\n",
    "        import matplotlib.pyplot as plt\n",
    "        from sklearn.neighbors import KNeighborsRegressor\n",
    "        \n",
    "        self.knn_model = KNeighborsRegressor().fit(self.X_reduced_train, self.y_train)\n",
    "        \n",
    "        print(\"n_neighbors:\" + str(self.knn_model.n_neighbors))\n",
    "        print(\"effective_metric:\" + str(self.knn_model.effective_metric_))\n",
    "        self.y_pred = self.knn_model.predict(self.X_reduced_test)\n",
    "        self.rmse_knn = np.sqrt(mean_squared_error(self.y_test, self.y_pred))\n",
    "        print(\"KNN RMSE:\"+ str(self.rmse_knn))\n",
    "        \n",
    "    def ModelTuning_KNN(self):\n",
    "        \n",
    "        from sklearn.metrics import mean_squared_error, r2_score\n",
    "        import matplotlib.pyplot as plt\n",
    "        from sklearn.neighbors import KNeighborsRegressor\n",
    "        \n",
    "        from sklearn.model_selection import GridSearchCV\n",
    "        self.knn_params = {'n_neighbors': np.arange(1,30,1)}\n",
    "        self.knn = KNeighborsRegressor()\n",
    "        self.knn_cv_model = GridSearchCV(self.knn, self.knn_params, cv = 3,n_jobs = -1, verbose = 2)\n",
    "        self.knn_cv_model.fit(self.X_reduced_train, self.y_train)\n",
    "        self.knn_cv_model.best_params_[\"n_neighbors\"]\n",
    "       \n",
    "\n",
    "        self.knn_tuned = KNeighborsRegressor(n_neighbors = self.knn_cv_model.best_params_[\"n_neighbors\"])\n",
    "        self.knn_tuned.fit(self.X_reduced_train, self.y_train)\n",
    "        self.rmse_knn_tuned = np.sqrt(mean_squared_error(self.y_test, self.knn_tuned.predict(self.X_reduced_test)))\n",
    "        print(\"KNN TUNED RMSE:\"+ str(self.rmse_knn_tuned))"
   ]
  },
  {
   "cell_type": "markdown",
   "metadata": {},
   "source": [
    "### ÖDEV AMACI; PCA ile boyut düşürerek modeller uygulamak olduğu için object değişkenlerimden ind_109 'a dummy yapacağım.\n",
    "\n",
    "### PCA uygulamamızın amacı modellerin daha hızlı çalışmasını sağlamaktır. Daha güçlü bir bilgisayar da PCA yapmamak ve ya daha doğru bir şekilde PCA yaparak verisetini modellere sokmak daha doğru olacaktır.\n",
    "\n",
    "### Diğer 2 object değişken olarak gözüken değişkenlerimi ise yanlış etiketlendiği gerekçesi ile integer'a dönüştüreceğim ve ya direk drop edeceğim.\n",
    "\n",
    "### Bu çalışmada direk droplamayı tercih ediyorum."
   ]
  },
  {
   "cell_type": "code",
   "execution_count": 234,
   "metadata": {},
   "outputs": [],
   "source": [
    "data = pd.read_excel(\"HW_Data_Set.xlsx\")"
   ]
  },
  {
   "cell_type": "code",
   "execution_count": 251,
   "metadata": {},
   "outputs": [],
   "source": [
    "pre = PreProcessing(data)"
   ]
  },
  {
   "cell_type": "code",
   "execution_count": 151,
   "metadata": {},
   "outputs": [
    {
     "name": "stdout",
     "output_type": "stream",
     "text": [
      "f_pvalue:1.1388842633054801e-05\n",
      "r square:0.002957781621115374\n",
      "rmse:36.92967855102184\n"
     ]
    },
    {
     "data": {
      "text/html": [
       "<table class=\"simpletable\">\n",
       "<caption>OLS Regression Results</caption>\n",
       "<tr>\n",
       "  <th>Dep. Variable:</th>        <td>90_target</td>    <th>  R-squared:         </th> <td>   0.003</td> \n",
       "</tr>\n",
       "<tr>\n",
       "  <th>Model:</th>                   <td>OLS</td>       <th>  Adj. R-squared:    </th> <td>   0.003</td> \n",
       "</tr>\n",
       "<tr>\n",
       "  <th>Method:</th>             <td>Least Squares</td>  <th>  F-statistic:       </th> <td>   19.29</td> \n",
       "</tr>\n",
       "<tr>\n",
       "  <th>Date:</th>             <td>Sun, 23 Aug 2020</td> <th>  Prob (F-statistic):</th> <td>1.14e-05</td> \n",
       "</tr>\n",
       "<tr>\n",
       "  <th>Time:</th>                 <td>19:18:58</td>     <th>  Log-Likelihood:    </th> <td> -31007.</td> \n",
       "</tr>\n",
       "<tr>\n",
       "  <th>No. Observations:</th>      <td>  6167</td>      <th>  AIC:               </th> <td>6.202e+04</td>\n",
       "</tr>\n",
       "<tr>\n",
       "  <th>Df Residuals:</th>          <td>  6166</td>      <th>  BIC:               </th> <td>6.202e+04</td>\n",
       "</tr>\n",
       "<tr>\n",
       "  <th>Df Model:</th>              <td>     1</td>      <th>                     </th>     <td> </td>    \n",
       "</tr>\n",
       "<tr>\n",
       "  <th>Covariance Type:</th>      <td>nonrobust</td>    <th>                     </th>     <td> </td>    \n",
       "</tr>\n",
       "</table>\n",
       "<table class=\"simpletable\">\n",
       "<tr>\n",
       "     <td></td>       <th>coef</th>     <th>std err</th>      <th>t</th>      <th>P>|t|</th>  <th>[0.025</th>    <th>0.975]</th>  \n",
       "</tr>\n",
       "<tr>\n",
       "  <th>ind_18</th> <td>   -0.1712</td> <td>    0.039</td> <td>   -4.393</td> <td> 0.000</td> <td>   -0.248</td> <td>   -0.095</td>\n",
       "</tr>\n",
       "</table>\n",
       "<table class=\"simpletable\">\n",
       "<tr>\n",
       "  <th>Omnibus:</th>       <td>31.967</td> <th>  Durbin-Watson:     </th> <td>   0.292</td> \n",
       "</tr>\n",
       "<tr>\n",
       "  <th>Prob(Omnibus):</th> <td> 0.000</td> <th>  Jarque-Bera (JB):  </th> <td>1012.544</td> \n",
       "</tr>\n",
       "<tr>\n",
       "  <th>Skew:</th>          <td> 0.178</td> <th>  Prob(JB):          </th> <td>1.35e-220</td>\n",
       "</tr>\n",
       "<tr>\n",
       "  <th>Kurtosis:</th>      <td> 1.047</td> <th>  Cond. No.          </th> <td>    1.00</td> \n",
       "</tr>\n",
       "</table><br/><br/>Warnings:<br/>[1] Standard Errors assume that the covariance matrix of the errors is correctly specified."
      ],
      "text/plain": [
       "<class 'statsmodels.iolib.summary.Summary'>\n",
       "\"\"\"\n",
       "                            OLS Regression Results                            \n",
       "==============================================================================\n",
       "Dep. Variable:              90_target   R-squared:                       0.003\n",
       "Model:                            OLS   Adj. R-squared:                  0.003\n",
       "Method:                 Least Squares   F-statistic:                     19.29\n",
       "Date:                Sun, 23 Aug 2020   Prob (F-statistic):           1.14e-05\n",
       "Time:                        19:18:58   Log-Likelihood:                -31007.\n",
       "No. Observations:                6167   AIC:                         6.202e+04\n",
       "Df Residuals:                    6166   BIC:                         6.202e+04\n",
       "Df Model:                           1                                         \n",
       "Covariance Type:            nonrobust                                         \n",
       "==============================================================================\n",
       "                 coef    std err          t      P>|t|      [0.025      0.975]\n",
       "------------------------------------------------------------------------------\n",
       "ind_18        -0.1712      0.039     -4.393      0.000      -0.248      -0.095\n",
       "==============================================================================\n",
       "Omnibus:                       31.967   Durbin-Watson:                   0.292\n",
       "Prob(Omnibus):                  0.000   Jarque-Bera (JB):             1012.544\n",
       "Skew:                           0.178   Prob(JB):                    1.35e-220\n",
       "Kurtosis:                       1.047   Cond. No.                         1.00\n",
       "==============================================================================\n",
       "\n",
       "Warnings:\n",
       "[1] Standard Errors assume that the covariance matrix of the errors is correctly specified.\n",
       "\"\"\""
      ]
     },
     "execution_count": 151,
     "metadata": {},
     "output_type": "execute_result"
    },
    {
     "data": {
      "image/png": "[encoded data removed]",
      "text/plain": [
       "<Figure size 432x288 with 1 Axes>"
      ]
     },
     "metadata": {
      "needs_background": "light"
     },
     "output_type": "display_data"
    }
   ],
   "source": [
    "pre.lineer()"
   ]
  },
  {
   "cell_type": "markdown",
   "metadata": {},
   "source": [
    "## Devamını yetiştiremedim hocam kusura bakmayın.. Bilgisayarım çok yavaş. Geri kalan aşamalarda da aynı şekilde yapıp en son karşılaştırma grafiği koyacaktım.."
   ]
  },
  {
   "cell_type": "code",
   "execution_count": 252,
   "metadata": {},
   "outputs": [
    {
     "name": "stderr",
     "output_type": "stream",
     "text": [
      "C:\\Users\\LENOVO\\Anaconda3\\lib\\site-packages\\ipykernel_launcher.py:85: FutureWarning:\n",
      "\n",
      "Sorting because non-concatenation axis is not aligned. A future version\n",
      "of pandas will change to not sort by default.\n",
      "\n",
      "To accept the future behavior, pass 'sort=False'.\n",
      "\n",
      "To retain the current behavior and silence the warning, pass 'sort=True'.\n",
      "\n",
      "\n"
     ]
    },
    {
     "data": {
      "text/html": [
       "<div>\n",
       "<style scoped>\n",
       "    .dataframe tbody tr th:only-of-type {\n",
       "        vertical-align: middle;\n",
       "    }\n",
       "\n",
       "    .dataframe tbody tr th {\n",
       "        vertical-align: top;\n",
       "    }\n",
       "\n",
       "    .dataframe thead th {\n",
       "        text-align: right;\n",
       "    }\n",
       "</style>\n",
       "<table border=\"1\" class=\"dataframe\">\n",
       "  <thead>\n",
       "    <tr style=\"text-align: right;\">\n",
       "      <th></th>\n",
       "      <th>20_target</th>\n",
       "      <th>50_target</th>\n",
       "      <th>90_target</th>\n",
       "      <th>ind_10</th>\n",
       "      <th>ind_102</th>\n",
       "      <th>ind_109</th>\n",
       "      <th>ind_109_GREEN</th>\n",
       "      <th>ind_109_RED</th>\n",
       "      <th>ind_116</th>\n",
       "      <th>ind_118</th>\n",
       "      <th>...</th>\n",
       "      <th>ind_70</th>\n",
       "      <th>ind_71</th>\n",
       "      <th>ind_74</th>\n",
       "      <th>ind_77</th>\n",
       "      <th>ind_8</th>\n",
       "      <th>ind_82</th>\n",
       "      <th>ind_83</th>\n",
       "      <th>ind_88</th>\n",
       "      <th>ind_9</th>\n",
       "      <th>ind_92</th>\n",
       "    </tr>\n",
       "  </thead>\n",
       "  <tbody>\n",
       "    <tr>\n",
       "      <th>0</th>\n",
       "      <td>15.135802</td>\n",
       "      <td>35.625252</td>\n",
       "      <td>36.997753</td>\n",
       "      <td>14.285714</td>\n",
       "      <td>41.915016</td>\n",
       "      <td>GREEN</td>\n",
       "      <td>NaN</td>\n",
       "      <td>NaN</td>\n",
       "      <td>-13.0</td>\n",
       "      <td>0.002523</td>\n",
       "      <td>...</td>\n",
       "      <td>-3.0</td>\n",
       "      <td>8.0</td>\n",
       "      <td>8.0</td>\n",
       "      <td>8.0</td>\n",
       "      <td>100.0</td>\n",
       "      <td>-2.0</td>\n",
       "      <td>8.0</td>\n",
       "      <td>0.000517</td>\n",
       "      <td>85.714286</td>\n",
       "      <td>20.198253</td>\n",
       "    </tr>\n",
       "    <tr>\n",
       "      <th>1</th>\n",
       "      <td>15.143348</td>\n",
       "      <td>35.643013</td>\n",
       "      <td>37.016198</td>\n",
       "      <td>21.428571</td>\n",
       "      <td>44.895122</td>\n",
       "      <td>GREEN</td>\n",
       "      <td>NaN</td>\n",
       "      <td>NaN</td>\n",
       "      <td>-16.0</td>\n",
       "      <td>0.003019</td>\n",
       "      <td>...</td>\n",
       "      <td>-3.0</td>\n",
       "      <td>8.0</td>\n",
       "      <td>8.0</td>\n",
       "      <td>8.0</td>\n",
       "      <td>100.0</td>\n",
       "      <td>-2.0</td>\n",
       "      <td>8.0</td>\n",
       "      <td>0.000401</td>\n",
       "      <td>78.571429</td>\n",
       "      <td>17.870633</td>\n",
       "    </tr>\n",
       "    <tr>\n",
       "      <th>2</th>\n",
       "      <td>15.146870</td>\n",
       "      <td>35.651301</td>\n",
       "      <td>-37.024805</td>\n",
       "      <td>28.571429</td>\n",
       "      <td>45.087799</td>\n",
       "      <td>GREEN</td>\n",
       "      <td>NaN</td>\n",
       "      <td>NaN</td>\n",
       "      <td>-15.0</td>\n",
       "      <td>0.003353</td>\n",
       "      <td>...</td>\n",
       "      <td>-4.0</td>\n",
       "      <td>8.0</td>\n",
       "      <td>8.0</td>\n",
       "      <td>8.0</td>\n",
       "      <td>100.0</td>\n",
       "      <td>-2.0</td>\n",
       "      <td>8.0</td>\n",
       "      <td>0.000392</td>\n",
       "      <td>71.428571</td>\n",
       "      <td>12.436570</td>\n",
       "    </tr>\n",
       "  </tbody>\n",
       "</table>\n",
       "<p>3 rows × 138 columns</p>\n",
       "</div>"
      ],
      "text/plain": [
       "   20_target  50_target  90_target     ind_10    ind_102 ind_109  \\\n",
       "0  15.135802  35.625252  36.997753  14.285714  41.915016   GREEN   \n",
       "1  15.143348  35.643013  37.016198  21.428571  44.895122   GREEN   \n",
       "2  15.146870  35.651301 -37.024805  28.571429  45.087799   GREEN   \n",
       "\n",
       "   ind_109_GREEN  ind_109_RED  ind_116   ind_118    ...      ind_70  ind_71  \\\n",
       "0            NaN          NaN    -13.0  0.002523    ...        -3.0     8.0   \n",
       "1            NaN          NaN    -16.0  0.003019    ...        -3.0     8.0   \n",
       "2            NaN          NaN    -15.0  0.003353    ...        -4.0     8.0   \n",
       "\n",
       "   ind_74  ind_77  ind_8  ind_82  ind_83    ind_88      ind_9     ind_92  \n",
       "0     8.0     8.0  100.0    -2.0     8.0  0.000517  85.714286  20.198253  \n",
       "1     8.0     8.0  100.0    -2.0     8.0  0.000401  78.571429  17.870633  \n",
       "2     8.0     8.0  100.0    -2.0     8.0  0.000392  71.428571  12.436570  \n",
       "\n",
       "[3 rows x 138 columns]"
      ]
     },
     "execution_count": 252,
     "metadata": {},
     "output_type": "execute_result"
    }
   ],
   "source": [
    "pre.dummies()"
   ]
  },
  {
   "cell_type": "code",
   "execution_count": 253,
   "metadata": {},
   "outputs": [
    {
     "data": {
      "text/html": [
       "<div>\n",
       "<style scoped>\n",
       "    .dataframe tbody tr th:only-of-type {\n",
       "        vertical-align: middle;\n",
       "    }\n",
       "\n",
       "    .dataframe tbody tr th {\n",
       "        vertical-align: top;\n",
       "    }\n",
       "\n",
       "    .dataframe thead th {\n",
       "        text-align: right;\n",
       "    }\n",
       "</style>\n",
       "<table border=\"1\" class=\"dataframe\">\n",
       "  <thead>\n",
       "    <tr style=\"text-align: right;\">\n",
       "      <th></th>\n",
       "      <th>ind_5</th>\n",
       "      <th>ind_6</th>\n",
       "      <th>ind_8</th>\n",
       "      <th>ind_9</th>\n",
       "      <th>ind_10</th>\n",
       "      <th>ind_12</th>\n",
       "      <th>ind_13</th>\n",
       "      <th>ind_14</th>\n",
       "      <th>ind_15</th>\n",
       "      <th>ind_16</th>\n",
       "      <th>...</th>\n",
       "      <th>ind_406</th>\n",
       "      <th>ind_407</th>\n",
       "      <th>ind_410</th>\n",
       "      <th>ind_412</th>\n",
       "      <th>ind_414</th>\n",
       "      <th>ind_416</th>\n",
       "      <th>ind_418</th>\n",
       "      <th>ind_424</th>\n",
       "      <th>ind_426</th>\n",
       "      <th>ind_428</th>\n",
       "    </tr>\n",
       "  </thead>\n",
       "  <tbody>\n",
       "    <tr>\n",
       "      <th>0</th>\n",
       "      <td>19</td>\n",
       "      <td>17</td>\n",
       "      <td>100.0</td>\n",
       "      <td>85.714286</td>\n",
       "      <td>14.285714</td>\n",
       "      <td>72.363515</td>\n",
       "      <td>60.808814</td>\n",
       "      <td>23.80</td>\n",
       "      <td>17.62</td>\n",
       "      <td>11.73</td>\n",
       "      <td>...</td>\n",
       "      <td>-44</td>\n",
       "      <td>-23</td>\n",
       "      <td>-27</td>\n",
       "      <td>0.002371</td>\n",
       "      <td>2.0</td>\n",
       "      <td>-49.6</td>\n",
       "      <td>-54</td>\n",
       "      <td>1.0</td>\n",
       "      <td>0.498547</td>\n",
       "      <td>0.701906</td>\n",
       "    </tr>\n",
       "    <tr>\n",
       "      <th>1</th>\n",
       "      <td>24</td>\n",
       "      <td>19</td>\n",
       "      <td>100.0</td>\n",
       "      <td>78.571429</td>\n",
       "      <td>21.428571</td>\n",
       "      <td>74.275883</td>\n",
       "      <td>64.366798</td>\n",
       "      <td>11.45</td>\n",
       "      <td>18.16</td>\n",
       "      <td>12.22</td>\n",
       "      <td>...</td>\n",
       "      <td>-48</td>\n",
       "      <td>-16</td>\n",
       "      <td>-31</td>\n",
       "      <td>0.003074</td>\n",
       "      <td>0.8</td>\n",
       "      <td>-55.6</td>\n",
       "      <td>-60</td>\n",
       "      <td>1.0</td>\n",
       "      <td>0.537088</td>\n",
       "      <td>0.690833</td>\n",
       "    </tr>\n",
       "    <tr>\n",
       "      <th>2</th>\n",
       "      <td>30</td>\n",
       "      <td>24</td>\n",
       "      <td>100.0</td>\n",
       "      <td>71.428571</td>\n",
       "      <td>28.571429</td>\n",
       "      <td>75.140402</td>\n",
       "      <td>65.915803</td>\n",
       "      <td>8.75</td>\n",
       "      <td>17.86</td>\n",
       "      <td>12.28</td>\n",
       "      <td>...</td>\n",
       "      <td>-48</td>\n",
       "      <td>-10</td>\n",
       "      <td>-30</td>\n",
       "      <td>0.003561</td>\n",
       "      <td>2.7</td>\n",
       "      <td>-58.4</td>\n",
       "      <td>-60</td>\n",
       "      <td>1.0</td>\n",
       "      <td>0.615169</td>\n",
       "      <td>0.693040</td>\n",
       "    </tr>\n",
       "  </tbody>\n",
       "</table>\n",
       "<p>3 rows × 130 columns</p>\n",
       "</div>"
      ],
      "text/plain": [
       "   ind_5  ind_6  ind_8      ind_9     ind_10     ind_12     ind_13  ind_14  \\\n",
       "0     19     17  100.0  85.714286  14.285714  72.363515  60.808814   23.80   \n",
       "1     24     19  100.0  78.571429  21.428571  74.275883  64.366798   11.45   \n",
       "2     30     24  100.0  71.428571  28.571429  75.140402  65.915803    8.75   \n",
       "\n",
       "   ind_15  ind_16    ...     ind_406  ind_407  ind_410   ind_412  ind_414  \\\n",
       "0   17.62   11.73    ...         -44      -23      -27  0.002371      2.0   \n",
       "1   18.16   12.22    ...         -48      -16      -31  0.003074      0.8   \n",
       "2   17.86   12.28    ...         -48      -10      -30  0.003561      2.7   \n",
       "\n",
       "   ind_416  ind_418  ind_424   ind_426   ind_428  \n",
       "0    -49.6      -54      1.0  0.498547  0.701906  \n",
       "1    -55.6      -60      1.0  0.537088  0.690833  \n",
       "2    -58.4      -60      1.0  0.615169  0.693040  \n",
       "\n",
       "[3 rows x 130 columns]"
      ]
     },
     "execution_count": 253,
     "metadata": {},
     "output_type": "execute_result"
    }
   ],
   "source": [
    "pre.onhazirlik()"
   ]
  },
  {
   "cell_type": "code",
   "execution_count": 254,
   "metadata": {},
   "outputs": [],
   "source": [
    "pre.train_test_split()"
   ]
  },
  {
   "cell_type": "code",
   "execution_count": 255,
   "metadata": {},
   "outputs": [
    {
     "name": "stdout",
     "output_type": "stream",
     "text": [
      " TRAIN PCR RMSE:36.54105190567187\n",
      " TEST PCR RMSE:36.577926175764475\n"
     ]
    },
    {
     "name": "stderr",
     "output_type": "stream",
     "text": [
      "C:\\Users\\LENOVO\\Anaconda3\\lib\\site-packages\\ipykernel_launcher.py:114: DataConversionWarning:\n",
      "\n",
      "Data with input dtype int64, float64 were all converted to float64 by the scale function.\n",
      "\n",
      "C:\\Users\\LENOVO\\Anaconda3\\lib\\site-packages\\ipykernel_launcher.py:115: DataConversionWarning:\n",
      "\n",
      "Data with input dtype int64, float64 were all converted to float64 by the scale function.\n",
      "\n"
     ]
    },
    {
     "data": {
      "text/plain": [
       "array([37.83, 50.2 , 55.78, 60.35])"
      ]
     },
     "execution_count": 255,
     "metadata": {},
     "output_type": "execute_result"
    },
    {
     "data": {
      "image/png": "[encoded data removed]",
      "text/plain": [
       "<Figure size 1440x1080 with 1 Axes>"
      ]
     },
     "metadata": {
      "needs_background": "light"
     },
     "output_type": "display_data"
    }
   ],
   "source": [
    "pre.pca()"
   ]
  },
  {
   "cell_type": "code",
   "execution_count": 156,
   "metadata": {},
   "outputs": [
    {
     "name": "stdout",
     "output_type": "stream",
     "text": [
      "Leverag v.s. Studentized Residuals\n",
      "rmse:36.70533356557194\n"
     ]
    },
    {
     "data": {
      "text/html": [
       "<table class=\"simpletable\">\n",
       "<tr>\n",
       "   <td></td>     <th>coef</th>     <th>std err</th>      <th>t</th>      <th>P>|t|</th>  <th>[0.025</th>    <th>0.975]</th>  \n",
       "</tr>\n",
       "<tr>\n",
       "  <th>x1</th> <td>   -0.2662</td> <td>    0.075</td> <td>   -3.544</td> <td> 0.000</td> <td>   -0.413</td> <td>   -0.119</td>\n",
       "</tr>\n",
       "<tr>\n",
       "  <th>x2</th> <td>    0.4230</td> <td>    0.131</td> <td>    3.219</td> <td> 0.001</td> <td>    0.165</td> <td>    0.681</td>\n",
       "</tr>\n",
       "<tr>\n",
       "  <th>x3</th> <td>    1.0686</td> <td>    0.185</td> <td>    5.789</td> <td> 0.000</td> <td>    0.707</td> <td>    1.431</td>\n",
       "</tr>\n",
       "<tr>\n",
       "  <th>x4</th> <td>    1.1372</td> <td>    0.217</td> <td>    5.235</td> <td> 0.000</td> <td>    0.711</td> <td>    1.563</td>\n",
       "</tr>\n",
       "</table>"
      ],
      "text/plain": [
       "<class 'statsmodels.iolib.table.SimpleTable'>"
      ]
     },
     "execution_count": 156,
     "metadata": {},
     "output_type": "execute_result"
    },
    {
     "data": {
      "image/png": "[encoded data removed]",
      "text/plain": [
       "<Figure size 432x288 with 1 Axes>"
      ]
     },
     "metadata": {
      "needs_background": "light"
     },
     "output_type": "display_data"
    }
   ],
   "source": [
    "pre.multi_lineer()"
   ]
  },
  {
   "cell_type": "code",
   "execution_count": 157,
   "metadata": {},
   "outputs": [
    {
     "data": {
      "image/png": "[encoded data removed]",
      "text/plain": [
       "<Figure size 432x288 with 1 Axes>"
      ]
     },
     "metadata": {
      "needs_background": "light"
     },
     "output_type": "display_data"
    }
   ],
   "source": [
    "pre.error_test()"
   ]
  },
  {
   "cell_type": "code",
   "execution_count": 158,
   "metadata": {},
   "outputs": [
    {
     "data": {
      "image/png": "[encoded data removed]",
      "text/plain": [
       "<Figure size 432x288 with 1 Axes>"
      ]
     },
     "metadata": {
      "needs_background": "light"
     },
     "output_type": "display_data"
    }
   ],
   "source": [
    "pre.qqplot_error()"
   ]
  },
  {
   "cell_type": "markdown",
   "metadata": {},
   "source": [
    "# SVR"
   ]
  },
  {
   "cell_type": "code",
   "execution_count": 184,
   "metadata": {},
   "outputs": [
    {
     "name": "stdout",
     "output_type": "stream",
     "text": [
      "SVR RMSE:41.53482347537331\n"
     ]
    }
   ],
   "source": [
    "pre.SVR()"
   ]
  },
  {
   "cell_type": "markdown",
   "metadata": {},
   "source": [
    "# TUNING SVR"
   ]
  },
  {
   "cell_type": "code",
   "execution_count": 185,
   "metadata": {},
   "outputs": [
    {
     "name": "stdout",
     "output_type": "stream",
     "text": [
      "Fitting 3 folds for each of 19 candidates, totalling 57 fits\n"
     ]
    },
    {
     "name": "stderr",
     "output_type": "stream",
     "text": [
      "[Parallel(n_jobs=-1)]: Using backend LokyBackend with 4 concurrent workers.\n",
      "[Parallel(n_jobs=-1)]: Done  33 tasks      | elapsed:    9.0s\n",
      "[Parallel(n_jobs=-1)]: Done  57 out of  57 | elapsed:   15.5s finished\n"
     ]
    },
    {
     "name": "stdout",
     "output_type": "stream",
     "text": [
      "En iyi parametreler: {'C': 1.8000000000000003}\n",
      " TUNED SVR RMSE:41.53171365765485\n"
     ]
    }
   ],
   "source": [
    "pre.ModelTuningSVR()"
   ]
  },
  {
   "cell_type": "markdown",
   "metadata": {},
   "source": [
    "# RBF"
   ]
  },
  {
   "cell_type": "code",
   "execution_count": 200,
   "metadata": {},
   "outputs": [
    {
     "name": "stderr",
     "output_type": "stream",
     "text": [
      "C:\\Users\\LENOVO\\Anaconda3\\lib\\site-packages\\sklearn\\svm\\base.py:196: FutureWarning:\n",
      "\n",
      "The default value of gamma will change from 'auto' to 'scale' in version 0.22 to account better for unscaled features. Set gamma explicitly to 'auto' or 'scale' to avoid this warning.\n",
      "\n"
     ]
    },
    {
     "name": "stdout",
     "output_type": "stream",
     "text": [
      "RBF RMSE:46.90794233749574\n"
     ]
    }
   ],
   "source": [
    "pre.RBF()"
   ]
  },
  {
   "cell_type": "code",
   "execution_count": 215,
   "metadata": {},
   "outputs": [
    {
     "name": "stderr",
     "output_type": "stream",
     "text": [
      "C:\\Users\\LENOVO\\Anaconda3\\lib\\site-packages\\sklearn\\svm\\base.py:196: FutureWarning:\n",
      "\n",
      "The default value of gamma will change from 'auto' to 'scale' in version 0.22 to account better for unscaled features. Set gamma explicitly to 'auto' or 'scale' to avoid this warning.\n",
      "\n"
     ]
    },
    {
     "name": "stdout",
     "output_type": "stream",
     "text": [
      "Fitting 3 folds for each of 4 candidates, totalling 12 fits\n"
     ]
    },
    {
     "name": "stderr",
     "output_type": "stream",
     "text": [
      "[Parallel(n_jobs=-1)]: Using backend LokyBackend with 4 concurrent workers.\n",
      "[Parallel(n_jobs=-1)]: Done  12 out of  12 | elapsed:    5.3s remaining:    0.0s\n",
      "[Parallel(n_jobs=-1)]: Done  12 out of  12 | elapsed:    5.3s finished\n",
      "C:\\Users\\LENOVO\\Anaconda3\\lib\\site-packages\\sklearn\\svm\\base.py:196: FutureWarning:\n",
      "\n",
      "The default value of gamma will change from 'auto' to 'scale' in version 0.22 to account better for unscaled features. Set gamma explicitly to 'auto' or 'scale' to avoid this warning.\n",
      "\n"
     ]
    },
    {
     "name": "stdout",
     "output_type": "stream",
     "text": [
      "En iyi parametreler: {'C': 15}\n"
     ]
    },
    {
     "name": "stderr",
     "output_type": "stream",
     "text": [
      "C:\\Users\\LENOVO\\Anaconda3\\lib\\site-packages\\sklearn\\svm\\base.py:196: FutureWarning:\n",
      "\n",
      "The default value of gamma will change from 'auto' to 'scale' in version 0.22 to account better for unscaled features. Set gamma explicitly to 'auto' or 'scale' to avoid this warning.\n",
      "\n"
     ]
    },
    {
     "name": "stdout",
     "output_type": "stream",
     "text": [
      " TUNED RBF RMSE:39.165198218675975\n"
     ]
    }
   ],
   "source": [
    "pre.ModelTuningRBF()"
   ]
  },
  {
   "cell_type": "markdown",
   "metadata": {},
   "source": [
    "# MLP"
   ]
  },
  {
   "cell_type": "code",
   "execution_count": 216,
   "metadata": {},
   "outputs": [
    {
     "name": "stdout",
     "output_type": "stream",
     "text": [
      "MLPR RMSE:36.245705686542976\n"
     ]
    },
    {
     "name": "stderr",
     "output_type": "stream",
     "text": [
      "C:\\Users\\LENOVO\\Anaconda3\\lib\\site-packages\\sklearn\\neural_network\\multilayer_perceptron.py:562: ConvergenceWarning:\n",
      "\n",
      "Stochastic Optimizer: Maximum iterations (200) reached and the optimization hasn't converged yet.\n",
      "\n"
     ]
    }
   ],
   "source": [
    "pre.MLPR()"
   ]
  },
  {
   "cell_type": "code",
   "execution_count": 218,
   "metadata": {},
   "outputs": [
    {
     "name": "stdout",
     "output_type": "stream",
     "text": [
      "Fitting 3 folds for each of 18 candidates, totalling 54 fits\n"
     ]
    },
    {
     "name": "stderr",
     "output_type": "stream",
     "text": [
      "[Parallel(n_jobs=-1)]: Using backend LokyBackend with 4 concurrent workers.\n",
      "[Parallel(n_jobs=-1)]: Done  33 tasks      | elapsed:  6.9min\n",
      "[Parallel(n_jobs=-1)]: Done  54 out of  54 | elapsed: 11.6min finished\n",
      "C:\\Users\\LENOVO\\Anaconda3\\lib\\site-packages\\sklearn\\neural_network\\multilayer_perceptron.py:562: ConvergenceWarning:\n",
      "\n",
      "Stochastic Optimizer: Maximum iterations (200) reached and the optimization hasn't converged yet.\n",
      "\n"
     ]
    },
    {
     "name": "stdout",
     "output_type": "stream",
     "text": [
      "En iyi parametreler: {'activation': 'logistic', 'alpha': 0.005, 'hidden_layer_sizes': (300, 200, 150)}\n",
      " TUNED MLP RMSE:36.26573950175658\n"
     ]
    },
    {
     "name": "stderr",
     "output_type": "stream",
     "text": [
      "C:\\Users\\LENOVO\\Anaconda3\\lib\\site-packages\\sklearn\\neural_network\\multilayer_perceptron.py:562: ConvergenceWarning:\n",
      "\n",
      "Stochastic Optimizer: Maximum iterations (200) reached and the optimization hasn't converged yet.\n",
      "\n"
     ]
    }
   ],
   "source": [
    "pre.ModelTuning_MLPR()"
   ]
  },
  {
   "cell_type": "markdown",
   "metadata": {},
   "source": [
    "# GRADIENT BOOSTING"
   ]
  },
  {
   "cell_type": "code",
   "execution_count": 256,
   "metadata": {},
   "outputs": [
    {
     "name": "stdout",
     "output_type": "stream",
     "text": [
      "GBM RMSE:36.47939115016496\n"
     ]
    }
   ],
   "source": [
    "pre.gradientboost()"
   ]
  },
  {
   "cell_type": "code",
   "execution_count": 257,
   "metadata": {},
   "outputs": [
    {
     "name": "stdout",
     "output_type": "stream",
     "text": [
      "Fitting 2 folds for each of 108 candidates, totalling 216 fits\n"
     ]
    },
    {
     "name": "stderr",
     "output_type": "stream",
     "text": [
      "[Parallel(n_jobs=-1)]: Using backend LokyBackend with 4 concurrent workers.\n",
      "[Parallel(n_jobs=-1)]: Done  33 tasks      | elapsed:   14.0s\n",
      "C:\\Users\\LENOVO\\Anaconda3\\lib\\site-packages\\sklearn\\externals\\joblib\\externals\\loky\\process_executor.py:706: UserWarning:\n",
      "\n",
      "A worker stopped while some jobs were given to the executor. This can be caused by a too short worker timeout or by a memory leak.\n",
      "\n",
      "C:\\Users\\LENOVO\\Anaconda3\\lib\\site-packages\\sklearn\\externals\\joblib\\externals\\loky\\process_executor.py:706: UserWarning:\n",
      "\n",
      "A worker stopped while some jobs were given to the executor. This can be caused by a too short worker timeout or by a memory leak.\n",
      "\n",
      "[Parallel(n_jobs=-1)]: Done 154 tasks      | elapsed:  5.0min\n",
      "[Parallel(n_jobs=-1)]: Done 216 out of 216 | elapsed:  5.8min finished\n"
     ]
    },
    {
     "name": "stdout",
     "output_type": "stream",
     "text": [
      "En iyi parametreler: {'learning_rate': 0.01, 'max_depth': 5, 'n_estimators': 500, 'subsample': 0.5}\n",
      " TUNED GBM RMSE:36.14821904014584\n"
     ]
    }
   ],
   "source": [
    "pre.ModelTuning_gradientboost()"
   ]
  },
  {
   "cell_type": "markdown",
   "metadata": {},
   "source": [
    "# KNN"
   ]
  },
  {
   "cell_type": "code",
   "execution_count": 220,
   "metadata": {},
   "outputs": [
    {
     "name": "stdout",
     "output_type": "stream",
     "text": [
      "n_neighbors:5\n",
      "effective_metric:euclidean\n",
      "KNN RMSE:37.709788312272515\n"
     ]
    }
   ],
   "source": [
    "pre.KNN()"
   ]
  },
  {
   "cell_type": "code",
   "execution_count": 221,
   "metadata": {},
   "outputs": [
    {
     "name": "stdout",
     "output_type": "stream",
     "text": [
      "Fitting 3 folds for each of 29 candidates, totalling 87 fits\n"
     ]
    },
    {
     "name": "stderr",
     "output_type": "stream",
     "text": [
      "[Parallel(n_jobs=-1)]: Using backend LokyBackend with 4 concurrent workers.\n"
     ]
    },
    {
     "name": "stdout",
     "output_type": "stream",
     "text": [
      "KNN TUNED RMSE:36.02897491847671\n"
     ]
    },
    {
     "name": "stderr",
     "output_type": "stream",
     "text": [
      "[Parallel(n_jobs=-1)]: Done  87 out of  87 | elapsed:    2.1s finished\n"
     ]
    }
   ],
   "source": [
    "pre.ModelTuning_KNN()"
   ]
  },
  {
   "cell_type": "markdown",
   "metadata": {},
   "source": [
    "# MODEL KARŞILAŞTIRMA "
   ]
  },
  {
   "cell_type": "code",
   "execution_count": 258,
   "metadata": {},
   "outputs": [],
   "source": [
    "rmse = [\"36.92967855102184\",\"36.70533356557194\",\"36.57790995574825\",\"41.53482347537331\",\"41.53171365765485\",\"46.90794233749574\",\n",
    "        \"39.165198218675975\",\"36.245705686542976\",\"36.26573950175658\",\"36.43092150625677\",\"36.14821904014584\",\"37.709788312272515\",\"36.02897491847671\"]"
   ]
  },
  {
   "cell_type": "code",
   "execution_count": 259,
   "metadata": {},
   "outputs": [],
   "source": [
    "labels=[\"Lineer\", \"Multi Lineer\", \"PCR\",\"SVR\", \"Tuned SVR\", \"RBF\",\"TUNED RBF\",\"MLPR\",\"TUNED MLPR\",\"GBM\",\"TUNED GBM\",\"KNN\",\"TUNED KNN\"]"
   ]
  },
  {
   "cell_type": "code",
   "execution_count": 260,
   "metadata": {},
   "outputs": [
    {
     "data": {
      "application/vnd.plotly.v1+json": {
       "config": {
        "linkText": "Export to plot.ly",
        "plotlyServerURL": "https://plot.ly",
        "showLink": false
       },
       "data": [
        {
         "marker": {
          "color": "rgba(255, 0, 0, 0.7)"
         },
         "mode": "lines",
         "name": "RMSE",
         "type": "scatter",
         "x": [
          "Lineer",
          "Multi Lineer",
          "PCR",
          "SVR",
          "Tuned SVR",
          "RBF",
          "TUNED RBF",
          "MLPR",
          "TUNED MLPR",
          "GBM",
          "TUNED GBM",
          "KNN",
          "TUNED KNN"
         ],
         "y": [
          "36.92967855102184",
          "36.70533356557194",
          "36.57790995574825",
          "41.53482347537331",
          "41.53171365765485",
          "46.90794233749574",
          "39.165198218675975",
          "36.245705686542976",
          "36.26573950175658",
          "36.43092150625677",
          "36.14821904014584",
          "37.709788312272515",
          "36.02897491847671"
         ]
        },
        {
         "marker": {
          "color": "rgba(0, 255, 155, 1)"
         },
         "mode": "markers",
         "name": "Highlight Point",
         "type": "scatter",
         "x": [
          "Lineer",
          "Multi Lineer",
          "PCR",
          "SVR",
          "Tuned SVR",
          "RBF",
          "TUNED RBF",
          "MLPR",
          "TUNED MLPR",
          "GBM",
          "TUNED GBM",
          "KNN",
          "TUNED KNN"
         ],
         "y": [
          "36.92967855102184",
          "36.70533356557194",
          "36.57790995574825",
          "41.53482347537331",
          "41.53171365765485",
          "46.90794233749574",
          "39.165198218675975",
          "36.245705686542976",
          "36.26573950175658",
          "36.43092150625677",
          "36.14821904014584",
          "37.709788312272515",
          "36.02897491847671"
         ]
        }
       ],
       "layout": {
        "template": {
         "data": {
          "bar": [
           {
            "error_x": {
             "color": "#2a3f5f"
            },
            "error_y": {
             "color": "#2a3f5f"
            },
            "marker": {
             "line": {
              "color": "#E5ECF6",
              "width": 0.5
             }
            },
            "type": "bar"
           }
          ],
          "barpolar": [
           {
            "marker": {
             "line": {
              "color": "#E5ECF6",
              "width": 0.5
             }
            },
            "type": "barpolar"
           }
          ],
          "carpet": [
           {
            "aaxis": {
             "endlinecolor": "#2a3f5f",
             "gridcolor": "white",
             "linecolor": "white",
             "minorgridcolor": "white",
             "startlinecolor": "#2a3f5f"
            },
            "baxis": {
             "endlinecolor": "#2a3f5f",
             "gridcolor": "white",
             "linecolor": "white",
             "minorgridcolor": "white",
             "startlinecolor": "#2a3f5f"
            },
            "type": "carpet"
           }
          ],
          "choropleth": [
           {
            "colorbar": {
             "outlinewidth": 0,
             "ticks": ""
            },
            "type": "choropleth"
           }
          ],
          "contour": [
           {
            "colorbar": {
             "outlinewidth": 0,
             "ticks": ""
            },
            "colorscale": [
             [
              0,
              "#0d0887"
             ],
             [
              0.1111111111111111,
              "#46039f"
             ],
             [
              0.2222222222222222,
              "#7201a8"
             ],
             [
              0.3333333333333333,
              "#9c179e"
             ],
             [
              0.4444444444444444,
              "#bd3786"
             ],
             [
              0.5555555555555556,
              "#d8576b"
             ],
             [
              0.6666666666666666,
              "#ed7953"
             ],
             [
              0.7777777777777778,
              "#fb9f3a"
             ],
             [
              0.8888888888888888,
              "#fdca26"
             ],
             [
              1,
              "#f0f921"
             ]
            ],
            "type": "contour"
           }
          ],
          "contourcarpet": [
           {
            "colorbar": {
             "outlinewidth": 0,
             "ticks": ""
            },
            "type": "contourcarpet"
           }
          ],
          "heatmap": [
           {
            "colorbar": {
             "outlinewidth": 0,
             "ticks": ""
            },
            "colorscale": [
             [
              0,
              "#0d0887"
             ],
             [
              0.1111111111111111,
              "#46039f"
             ],
             [
              0.2222222222222222,
              "#7201a8"
             ],
             [
              0.3333333333333333,
              "#9c179e"
             ],
             [
              0.4444444444444444,
              "#bd3786"
             ],
             [
              0.5555555555555556,
              "#d8576b"
             ],
             [
              0.6666666666666666,
              "#ed7953"
             ],
             [
              0.7777777777777778,
              "#fb9f3a"
             ],
             [
              0.8888888888888888,
              "#fdca26"
             ],
             [
              1,
              "#f0f921"
             ]
            ],
            "type": "heatmap"
           }
          ],
          "heatmapgl": [
           {
            "colorbar": {
             "outlinewidth": 0,
             "ticks": ""
            },
            "colorscale": [
             [
              0,
              "#0d0887"
             ],
             [
              0.1111111111111111,
              "#46039f"
             ],
             [
              0.2222222222222222,
              "#7201a8"
             ],
             [
              0.3333333333333333,
              "#9c179e"
             ],
             [
              0.4444444444444444,
              "#bd3786"
             ],
             [
              0.5555555555555556,
              "#d8576b"
             ],
             [
              0.6666666666666666,
              "#ed7953"
             ],
             [
              0.7777777777777778,
              "#fb9f3a"
             ],
             [
              0.8888888888888888,
              "#fdca26"
             ],
             [
              1,
              "#f0f921"
             ]
            ],
            "type": "heatmapgl"
           }
          ],
          "histogram": [
           {
            "marker": {
             "colorbar": {
              "outlinewidth": 0,
              "ticks": ""
             }
            },
            "type": "histogram"
           }
          ],
          "histogram2d": [
           {
            "colorbar": {
             "outlinewidth": 0,
             "ticks": ""
            },
            "colorscale": [
             [
              0,
              "#0d0887"
             ],
             [
              0.1111111111111111,
              "#46039f"
             ],
             [
              0.2222222222222222,
              "#7201a8"
             ],
             [
              0.3333333333333333,
              "#9c179e"
             ],
             [
              0.4444444444444444,
              "#bd3786"
             ],
             [
              0.5555555555555556,
              "#d8576b"
             ],
             [
              0.6666666666666666,
              "#ed7953"
             ],
             [
              0.7777777777777778,
              "#fb9f3a"
             ],
             [
              0.8888888888888888,
              "#fdca26"
             ],
             [
              1,
              "#f0f921"
             ]
            ],
            "type": "histogram2d"
           }
          ],
          "histogram2dcontour": [
           {
            "colorbar": {
             "outlinewidth": 0,
             "ticks": ""
            },
            "colorscale": [
             [
              0,
              "#0d0887"
             ],
             [
              0.1111111111111111,
              "#46039f"
             ],
             [
              0.2222222222222222,
              "#7201a8"
             ],
             [
              0.3333333333333333,
              "#9c179e"
             ],
             [
              0.4444444444444444,
              "#bd3786"
             ],
             [
              0.5555555555555556,
              "#d8576b"
             ],
             [
              0.6666666666666666,
              "#ed7953"
             ],
             [
              0.7777777777777778,
              "#fb9f3a"
             ],
             [
              0.8888888888888888,
              "#fdca26"
             ],
             [
              1,
              "#f0f921"
             ]
            ],
            "type": "histogram2dcontour"
           }
          ],
          "mesh3d": [
           {
            "colorbar": {
             "outlinewidth": 0,
             "ticks": ""
            },
            "type": "mesh3d"
           }
          ],
          "parcoords": [
           {
            "line": {
             "colorbar": {
              "outlinewidth": 0,
              "ticks": ""
             }
            },
            "type": "parcoords"
           }
          ],
          "pie": [
           {
            "automargin": true,
            "type": "pie"
           }
          ],
          "scatter": [
           {
            "marker": {
             "colorbar": {
              "outlinewidth": 0,
              "ticks": ""
             }
            },
            "type": "scatter"
           }
          ],
          "scatter3d": [
           {
            "line": {
             "colorbar": {
              "outlinewidth": 0,
              "ticks": ""
             }
            },
            "marker": {
             "colorbar": {
              "outlinewidth": 0,
              "ticks": ""
             }
            },
            "type": "scatter3d"
           }
          ],
          "scattercarpet": [
           {
            "marker": {
             "colorbar": {
              "outlinewidth": 0,
              "ticks": ""
             }
            },
            "type": "scattercarpet"
           }
          ],
          "scattergeo": [
           {
            "marker": {
             "colorbar": {
              "outlinewidth": 0,
              "ticks": ""
             }
            },
            "type": "scattergeo"
           }
          ],
          "scattergl": [
           {
            "marker": {
             "colorbar": {
              "outlinewidth": 0,
              "ticks": ""
             }
            },
            "type": "scattergl"
           }
          ],
          "scattermapbox": [
           {
            "marker": {
             "colorbar": {
              "outlinewidth": 0,
              "ticks": ""
             }
            },
            "type": "scattermapbox"
           }
          ],
          "scatterpolar": [
           {
            "marker": {
             "colorbar": {
              "outlinewidth": 0,
              "ticks": ""
             }
            },
            "type": "scatterpolar"
           }
          ],
          "scatterpolargl": [
           {
            "marker": {
             "colorbar": {
              "outlinewidth": 0,
              "ticks": ""
             }
            },
            "type": "scatterpolargl"
           }
          ],
          "scatterternary": [
           {
            "marker": {
             "colorbar": {
              "outlinewidth": 0,
              "ticks": ""
             }
            },
            "type": "scatterternary"
           }
          ],
          "surface": [
           {
            "colorbar": {
             "outlinewidth": 0,
             "ticks": ""
            },
            "colorscale": [
             [
              0,
              "#0d0887"
             ],
             [
              0.1111111111111111,
              "#46039f"
             ],
             [
              0.2222222222222222,
              "#7201a8"
             ],
             [
              0.3333333333333333,
              "#9c179e"
             ],
             [
              0.4444444444444444,
              "#bd3786"
             ],
             [
              0.5555555555555556,
              "#d8576b"
             ],
             [
              0.6666666666666666,
              "#ed7953"
             ],
             [
              0.7777777777777778,
              "#fb9f3a"
             ],
             [
              0.8888888888888888,
              "#fdca26"
             ],
             [
              1,
              "#f0f921"
             ]
            ],
            "type": "surface"
           }
          ],
          "table": [
           {
            "cells": {
             "fill": {
              "color": "#EBF0F8"
             },
             "line": {
              "color": "white"
             }
            },
            "header": {
             "fill": {
              "color": "#C8D4E3"
             },
             "line": {
              "color": "white"
             }
            },
            "type": "table"
           }
          ]
         },
         "layout": {
          "annotationdefaults": {
           "arrowcolor": "#2a3f5f",
           "arrowhead": 0,
           "arrowwidth": 1
          },
          "coloraxis": {
           "colorbar": {
            "outlinewidth": 0,
            "ticks": ""
           }
          },
          "colorscale": {
           "diverging": [
            [
             0,
             "#8e0152"
            ],
            [
             0.1,
             "#c51b7d"
            ],
            [
             0.2,
             "#de77ae"
            ],
            [
             0.3,
             "#f1b6da"
            ],
            [
             0.4,
             "#fde0ef"
            ],
            [
             0.5,
             "#f7f7f7"
            ],
            [
             0.6,
             "#e6f5d0"
            ],
            [
             0.7,
             "#b8e186"
            ],
            [
             0.8,
             "#7fbc41"
            ],
            [
             0.9,
             "#4d9221"
            ],
            [
             1,
             "#276419"
            ]
           ],
           "sequential": [
            [
             0,
             "#0d0887"
            ],
            [
             0.1111111111111111,
             "#46039f"
            ],
            [
             0.2222222222222222,
             "#7201a8"
            ],
            [
             0.3333333333333333,
             "#9c179e"
            ],
            [
             0.4444444444444444,
             "#bd3786"
            ],
            [
             0.5555555555555556,
             "#d8576b"
            ],
            [
             0.6666666666666666,
             "#ed7953"
            ],
            [
             0.7777777777777778,
             "#fb9f3a"
            ],
            [
             0.8888888888888888,
             "#fdca26"
            ],
            [
             1,
             "#f0f921"
            ]
           ],
           "sequentialminus": [
            [
             0,
             "#0d0887"
            ],
            [
             0.1111111111111111,
             "#46039f"
            ],
            [
             0.2222222222222222,
             "#7201a8"
            ],
            [
             0.3333333333333333,
             "#9c179e"
            ],
            [
             0.4444444444444444,
             "#bd3786"
            ],
            [
             0.5555555555555556,
             "#d8576b"
            ],
            [
             0.6666666666666666,
             "#ed7953"
            ],
            [
             0.7777777777777778,
             "#fb9f3a"
            ],
            [
             0.8888888888888888,
             "#fdca26"
            ],
            [
             1,
             "#f0f921"
            ]
           ]
          },
          "colorway": [
           "#636efa",
           "#EF553B",
           "#00cc96",
           "#ab63fa",
           "#FFA15A",
           "#19d3f3",
           "#FF6692",
           "#B6E880",
           "#FF97FF",
           "#FECB52"
          ],
          "font": {
           "color": "#2a3f5f"
          },
          "geo": {
           "bgcolor": "white",
           "lakecolor": "white",
           "landcolor": "#E5ECF6",
           "showlakes": true,
           "showland": true,
           "subunitcolor": "white"
          },
          "hoverlabel": {
           "align": "left"
          },
          "hovermode": "closest",
          "mapbox": {
           "style": "light"
          },
          "paper_bgcolor": "white",
          "plot_bgcolor": "#E5ECF6",
          "polar": {
           "angularaxis": {
            "gridcolor": "white",
            "linecolor": "white",
            "ticks": ""
           },
           "bgcolor": "#E5ECF6",
           "radialaxis": {
            "gridcolor": "white",
            "linecolor": "white",
            "ticks": ""
           }
          },
          "scene": {
           "xaxis": {
            "backgroundcolor": "#E5ECF6",
            "gridcolor": "white",
            "gridwidth": 2,
            "linecolor": "white",
            "showbackground": true,
            "ticks": "",
            "zerolinecolor": "white"
           },
           "yaxis": {
            "backgroundcolor": "#E5ECF6",
            "gridcolor": "white",
            "gridwidth": 2,
            "linecolor": "white",
            "showbackground": true,
            "ticks": "",
            "zerolinecolor": "white"
           },
           "zaxis": {
            "backgroundcolor": "#E5ECF6",
            "gridcolor": "white",
            "gridwidth": 2,
            "linecolor": "white",
            "showbackground": true,
            "ticks": "",
            "zerolinecolor": "white"
           }
          },
          "shapedefaults": {
           "line": {
            "color": "#2a3f5f"
           }
          },
          "ternary": {
           "aaxis": {
            "gridcolor": "white",
            "linecolor": "white",
            "ticks": ""
           },
           "baxis": {
            "gridcolor": "white",
            "linecolor": "white",
            "ticks": ""
           },
           "bgcolor": "#E5ECF6",
           "caxis": {
            "gridcolor": "white",
            "linecolor": "white",
            "ticks": ""
           }
          },
          "title": {
           "x": 0.05
          },
          "xaxis": {
           "automargin": true,
           "gridcolor": "white",
           "linecolor": "white",
           "ticks": "",
           "title": {
            "standoff": 15
           },
           "zerolinecolor": "white",
           "zerolinewidth": 2
          },
          "yaxis": {
           "automargin": true,
           "gridcolor": "white",
           "linecolor": "white",
           "ticks": "",
           "title": {
            "standoff": 15
           },
           "zerolinecolor": "white",
           "zerolinewidth": 2
          }
         }
        },
        "title": {
         "text": "RMSE KARŞILAŞTIRMASI"
        },
        "xaxis": {
         "ticklen": 10,
         "title": {
          "text": "RMSE"
         },
         "zeroline": false
        },
        "yaxis": {
         "ticklen": 10,
         "title": {
          "text": "Result"
         },
         "zeroline": false
        }
       }
      },
      "text/html": [
       "<div>\n",
       "        \n",
       "        \n",
       "            <div id=\"9685cbde-e48a-4ee9-b112-81f0ef3a9506\" class=\"plotly-graph-div\" style=\"height:525px; width:100%;\"></div>\n",
       "            <script type=\"text/javascript\">\n",
       "                require([\"plotly\"], function(Plotly) {\n",
       "                    window.PLOTLYENV=window.PLOTLYENV || {};\n",
       "                    \n",
       "                if (document.getElementById(\"9685cbde-e48a-4ee9-b112-81f0ef3a9506\")) {\n",
       "                    Plotly.newPlot(\n",
       "                        '9685cbde-e48a-4ee9-b112-81f0ef3a9506',\n",
       "                        [{\"marker\": {\"color\": \"rgba(255, 0, 0, 0.7)\"}, \"mode\": \"lines\", \"name\": \"RMSE\", \"type\": \"scatter\", \"x\": [\"Lineer\", \"Multi Lineer\", \"PCR\", \"SVR\", \"Tuned SVR\", \"RBF\", \"TUNED RBF\", \"MLPR\", \"TUNED MLPR\", \"GBM\", \"TUNED GBM\", \"KNN\", \"TUNED KNN\"], \"y\": [\"36.92967855102184\", \"36.70533356557194\", \"36.57790995574825\", \"41.53482347537331\", \"41.53171365765485\", \"46.90794233749574\", \"39.165198218675975\", \"36.245705686542976\", \"36.26573950175658\", \"36.43092150625677\", \"36.14821904014584\", \"37.709788312272515\", \"36.02897491847671\"]}, {\"marker\": {\"color\": \"rgba(0, 255, 155, 1)\"}, \"mode\": \"markers\", \"name\": \"Highlight Point\", \"type\": \"scatter\", \"x\": [\"Lineer\", \"Multi Lineer\", \"PCR\", \"SVR\", \"Tuned SVR\", \"RBF\", \"TUNED RBF\", \"MLPR\", \"TUNED MLPR\", \"GBM\", \"TUNED GBM\", \"KNN\", \"TUNED KNN\"], \"y\": [\"36.92967855102184\", \"36.70533356557194\", \"36.57790995574825\", \"41.53482347537331\", \"41.53171365765485\", \"46.90794233749574\", \"39.165198218675975\", \"36.245705686542976\", \"36.26573950175658\", \"36.43092150625677\", \"36.14821904014584\", \"37.709788312272515\", \"36.02897491847671\"]}],\n",
       "                        {\"template\": {\"data\": {\"bar\": [{\"error_x\": {\"color\": \"#2a3f5f\"}, \"error_y\": {\"color\": \"#2a3f5f\"}, \"marker\": {\"line\": {\"color\": \"#E5ECF6\", \"width\": 0.5}}, \"type\": \"bar\"}], \"barpolar\": [{\"marker\": {\"line\": {\"color\": \"#E5ECF6\", \"width\": 0.5}}, \"type\": \"barpolar\"}], \"carpet\": [{\"aaxis\": {\"endlinecolor\": \"#2a3f5f\", \"gridcolor\": \"white\", \"linecolor\": \"white\", \"minorgridcolor\": \"white\", \"startlinecolor\": \"#2a3f5f\"}, \"baxis\": {\"endlinecolor\": \"#2a3f5f\", \"gridcolor\": \"white\", \"linecolor\": \"white\", \"minorgridcolor\": \"white\", \"startlinecolor\": \"#2a3f5f\"}, \"type\": \"carpet\"}], \"choropleth\": [{\"colorbar\": {\"outlinewidth\": 0, \"ticks\": \"\"}, \"type\": \"choropleth\"}], \"contour\": [{\"colorbar\": {\"outlinewidth\": 0, \"ticks\": \"\"}, \"colorscale\": [[0.0, \"#0d0887\"], [0.1111111111111111, \"#46039f\"], [0.2222222222222222, \"#7201a8\"], [0.3333333333333333, \"#9c179e\"], [0.4444444444444444, \"#bd3786\"], [0.5555555555555556, \"#d8576b\"], [0.6666666666666666, \"#ed7953\"], [0.7777777777777778, \"#fb9f3a\"], [0.8888888888888888, \"#fdca26\"], [1.0, \"#f0f921\"]], \"type\": \"contour\"}], \"contourcarpet\": [{\"colorbar\": {\"outlinewidth\": 0, \"ticks\": \"\"}, \"type\": \"contourcarpet\"}], \"heatmap\": [{\"colorbar\": {\"outlinewidth\": 0, \"ticks\": \"\"}, \"colorscale\": [[0.0, \"#0d0887\"], [0.1111111111111111, \"#46039f\"], [0.2222222222222222, \"#7201a8\"], [0.3333333333333333, \"#9c179e\"], [0.4444444444444444, \"#bd3786\"], [0.5555555555555556, \"#d8576b\"], [0.6666666666666666, \"#ed7953\"], [0.7777777777777778, \"#fb9f3a\"], [0.8888888888888888, \"#fdca26\"], [1.0, \"#f0f921\"]], \"type\": \"heatmap\"}], \"heatmapgl\": [{\"colorbar\": {\"outlinewidth\": 0, \"ticks\": \"\"}, \"colorscale\": [[0.0, \"#0d0887\"], [0.1111111111111111, \"#46039f\"], [0.2222222222222222, \"#7201a8\"], [0.3333333333333333, \"#9c179e\"], [0.4444444444444444, \"#bd3786\"], [0.5555555555555556, \"#d8576b\"], [0.6666666666666666, \"#ed7953\"], [0.7777777777777778, \"#fb9f3a\"], [0.8888888888888888, \"#fdca26\"], [1.0, \"#f0f921\"]], \"type\": \"heatmapgl\"}], \"histogram\": [{\"marker\": {\"colorbar\": {\"outlinewidth\": 0, \"ticks\": \"\"}}, \"type\": \"histogram\"}], \"histogram2d\": [{\"colorbar\": {\"outlinewidth\": 0, \"ticks\": \"\"}, \"colorscale\": [[0.0, \"#0d0887\"], [0.1111111111111111, \"#46039f\"], [0.2222222222222222, \"#7201a8\"], [0.3333333333333333, \"#9c179e\"], [0.4444444444444444, \"#bd3786\"], [0.5555555555555556, \"#d8576b\"], [0.6666666666666666, \"#ed7953\"], [0.7777777777777778, \"#fb9f3a\"], [0.8888888888888888, \"#fdca26\"], [1.0, \"#f0f921\"]], \"type\": \"histogram2d\"}], \"histogram2dcontour\": [{\"colorbar\": {\"outlinewidth\": 0, \"ticks\": \"\"}, \"colorscale\": [[0.0, \"#0d0887\"], [0.1111111111111111, \"#46039f\"], [0.2222222222222222, \"#7201a8\"], [0.3333333333333333, \"#9c179e\"], [0.4444444444444444, \"#bd3786\"], [0.5555555555555556, \"#d8576b\"], [0.6666666666666666, \"#ed7953\"], [0.7777777777777778, \"#fb9f3a\"], [0.8888888888888888, \"#fdca26\"], [1.0, \"#f0f921\"]], \"type\": \"histogram2dcontour\"}], \"mesh3d\": [{\"colorbar\": {\"outlinewidth\": 0, \"ticks\": \"\"}, \"type\": \"mesh3d\"}], \"parcoords\": [{\"line\": {\"colorbar\": {\"outlinewidth\": 0, \"ticks\": \"\"}}, \"type\": \"parcoords\"}], \"pie\": [{\"automargin\": true, \"type\": \"pie\"}], \"scatter\": [{\"marker\": {\"colorbar\": {\"outlinewidth\": 0, \"ticks\": \"\"}}, \"type\": \"scatter\"}], \"scatter3d\": [{\"line\": {\"colorbar\": {\"outlinewidth\": 0, \"ticks\": \"\"}}, \"marker\": {\"colorbar\": {\"outlinewidth\": 0, \"ticks\": \"\"}}, \"type\": \"scatter3d\"}], \"scattercarpet\": [{\"marker\": {\"colorbar\": {\"outlinewidth\": 0, \"ticks\": \"\"}}, \"type\": \"scattercarpet\"}], \"scattergeo\": [{\"marker\": {\"colorbar\": {\"outlinewidth\": 0, \"ticks\": \"\"}}, \"type\": \"scattergeo\"}], \"scattergl\": [{\"marker\": {\"colorbar\": {\"outlinewidth\": 0, \"ticks\": \"\"}}, \"type\": \"scattergl\"}], \"scattermapbox\": [{\"marker\": {\"colorbar\": {\"outlinewidth\": 0, \"ticks\": \"\"}}, \"type\": \"scattermapbox\"}], \"scatterpolar\": [{\"marker\": {\"colorbar\": {\"outlinewidth\": 0, \"ticks\": \"\"}}, \"type\": \"scatterpolar\"}], \"scatterpolargl\": [{\"marker\": {\"colorbar\": {\"outlinewidth\": 0, \"ticks\": \"\"}}, \"type\": \"scatterpolargl\"}], \"scatterternary\": [{\"marker\": {\"colorbar\": {\"outlinewidth\": 0, \"ticks\": \"\"}}, \"type\": \"scatterternary\"}], \"surface\": [{\"colorbar\": {\"outlinewidth\": 0, \"ticks\": \"\"}, \"colorscale\": [[0.0, \"#0d0887\"], [0.1111111111111111, \"#46039f\"], [0.2222222222222222, \"#7201a8\"], [0.3333333333333333, \"#9c179e\"], [0.4444444444444444, \"#bd3786\"], [0.5555555555555556, \"#d8576b\"], [0.6666666666666666, \"#ed7953\"], [0.7777777777777778, \"#fb9f3a\"], [0.8888888888888888, \"#fdca26\"], [1.0, \"#f0f921\"]], \"type\": \"surface\"}], \"table\": [{\"cells\": {\"fill\": {\"color\": \"#EBF0F8\"}, \"line\": {\"color\": \"white\"}}, \"header\": {\"fill\": {\"color\": \"#C8D4E3\"}, \"line\": {\"color\": \"white\"}}, \"type\": \"table\"}]}, \"layout\": {\"annotationdefaults\": {\"arrowcolor\": \"#2a3f5f\", \"arrowhead\": 0, \"arrowwidth\": 1}, \"coloraxis\": {\"colorbar\": {\"outlinewidth\": 0, \"ticks\": \"\"}}, \"colorscale\": {\"diverging\": [[0, \"#8e0152\"], [0.1, \"#c51b7d\"], [0.2, \"#de77ae\"], [0.3, \"#f1b6da\"], [0.4, \"#fde0ef\"], [0.5, \"#f7f7f7\"], [0.6, \"#e6f5d0\"], [0.7, \"#b8e186\"], [0.8, \"#7fbc41\"], [0.9, \"#4d9221\"], [1, \"#276419\"]], \"sequential\": [[0.0, \"#0d0887\"], [0.1111111111111111, \"#46039f\"], [0.2222222222222222, \"#7201a8\"], [0.3333333333333333, \"#9c179e\"], [0.4444444444444444, \"#bd3786\"], [0.5555555555555556, \"#d8576b\"], [0.6666666666666666, \"#ed7953\"], [0.7777777777777778, \"#fb9f3a\"], [0.8888888888888888, \"#fdca26\"], [1.0, \"#f0f921\"]], \"sequentialminus\": [[0.0, \"#0d0887\"], [0.1111111111111111, \"#46039f\"], [0.2222222222222222, \"#7201a8\"], [0.3333333333333333, \"#9c179e\"], [0.4444444444444444, \"#bd3786\"], [0.5555555555555556, \"#d8576b\"], [0.6666666666666666, \"#ed7953\"], [0.7777777777777778, \"#fb9f3a\"], [0.8888888888888888, \"#fdca26\"], [1.0, \"#f0f921\"]]}, \"colorway\": [\"#636efa\", \"#EF553B\", \"#00cc96\", \"#ab63fa\", \"#FFA15A\", \"#19d3f3\", \"#FF6692\", \"#B6E880\", \"#FF97FF\", \"#FECB52\"], \"font\": {\"color\": \"#2a3f5f\"}, \"geo\": {\"bgcolor\": \"white\", \"lakecolor\": \"white\", \"landcolor\": \"#E5ECF6\", \"showlakes\": true, \"showland\": true, \"subunitcolor\": \"white\"}, \"hoverlabel\": {\"align\": \"left\"}, \"hovermode\": \"closest\", \"mapbox\": {\"style\": \"light\"}, \"paper_bgcolor\": \"white\", \"plot_bgcolor\": \"#E5ECF6\", \"polar\": {\"angularaxis\": {\"gridcolor\": \"white\", \"linecolor\": \"white\", \"ticks\": \"\"}, \"bgcolor\": \"#E5ECF6\", \"radialaxis\": {\"gridcolor\": \"white\", \"linecolor\": \"white\", \"ticks\": \"\"}}, \"scene\": {\"xaxis\": {\"backgroundcolor\": \"#E5ECF6\", \"gridcolor\": \"white\", \"gridwidth\": 2, \"linecolor\": \"white\", \"showbackground\": true, \"ticks\": \"\", \"zerolinecolor\": \"white\"}, \"yaxis\": {\"backgroundcolor\": \"#E5ECF6\", \"gridcolor\": \"white\", \"gridwidth\": 2, \"linecolor\": \"white\", \"showbackground\": true, \"ticks\": \"\", \"zerolinecolor\": \"white\"}, \"zaxis\": {\"backgroundcolor\": \"#E5ECF6\", \"gridcolor\": \"white\", \"gridwidth\": 2, \"linecolor\": \"white\", \"showbackground\": true, \"ticks\": \"\", \"zerolinecolor\": \"white\"}}, \"shapedefaults\": {\"line\": {\"color\": \"#2a3f5f\"}}, \"ternary\": {\"aaxis\": {\"gridcolor\": \"white\", \"linecolor\": \"white\", \"ticks\": \"\"}, \"baxis\": {\"gridcolor\": \"white\", \"linecolor\": \"white\", \"ticks\": \"\"}, \"bgcolor\": \"#E5ECF6\", \"caxis\": {\"gridcolor\": \"white\", \"linecolor\": \"white\", \"ticks\": \"\"}}, \"title\": {\"x\": 0.05}, \"xaxis\": {\"automargin\": true, \"gridcolor\": \"white\", \"linecolor\": \"white\", \"ticks\": \"\", \"title\": {\"standoff\": 15}, \"zerolinecolor\": \"white\", \"zerolinewidth\": 2}, \"yaxis\": {\"automargin\": true, \"gridcolor\": \"white\", \"linecolor\": \"white\", \"ticks\": \"\", \"title\": {\"standoff\": 15}, \"zerolinecolor\": \"white\", \"zerolinewidth\": 2}}}, \"title\": {\"text\": \"RMSE KAR\\u015eILA\\u015eTIRMASI\"}, \"xaxis\": {\"ticklen\": 10, \"title\": {\"text\": \"RMSE\"}, \"zeroline\": false}, \"yaxis\": {\"ticklen\": 10, \"title\": {\"text\": \"Result\"}, \"zeroline\": false}},\n",
       "                        {\"responsive\": true}\n",
       "                    ).then(function(){\n",
       "                            \n",
       "var gd = document.getElementById('9685cbde-e48a-4ee9-b112-81f0ef3a9506');\n",
       "var x = new MutationObserver(function (mutations, observer) {{\n",
       "        var display = window.getComputedStyle(gd).display;\n",
       "        if (!display || display === 'none') {{\n",
       "            console.log([gd, 'removed!']);\n",
       "            Plotly.purge(gd);\n",
       "            observer.disconnect();\n",
       "        }}\n",
       "}});\n",
       "\n",
       "// Listen for the removal of the full notebook cells\n",
       "var notebookContainer = gd.closest('#notebook-container');\n",
       "if (notebookContainer) {{\n",
       "    x.observe(notebookContainer, {childList: true});\n",
       "}}\n",
       "\n",
       "// Listen for the clearing of the current output cell\n",
       "var outputEl = gd.closest('.output');\n",
       "if (outputEl) {{\n",
       "    x.observe(outputEl, {childList: true});\n",
       "}}\n",
       "\n",
       "                        })\n",
       "                };\n",
       "                });\n",
       "            </script>\n",
       "        </div>"
      ]
     },
     "metadata": {},
     "output_type": "display_data"
    }
   ],
   "source": [
    "def enable_plotly_in_cell():\n",
    "    import IPython\n",
    "    from plotly.offline import init_notebook_mode\n",
    "    display(IPython.core.display.HTML('''<script src=\"/static/components/requirejs/require.js\"></script>'''))\n",
    "    init_notebook_mode(connected=True)\n",
    "    plotly.offline.init_notebook_mode(connected=True)\n",
    "\n",
    "from plotly.offline import iplot\n",
    "import plotly.graph_objs as go\n",
    "\n",
    "\n",
    "\n",
    "trace1 = go.Scatter(\n",
    "                    x = labels,\n",
    "                    y = rmse,\n",
    "                    mode = \"lines\",\n",
    "                    name = \"RMSE\",\n",
    "                    marker = dict(color = 'rgba(255, 0, 0, 0.7)')\n",
    ")\n",
    "\n",
    "trace2 =go.Scatter( \n",
    "                    x = labels,\n",
    "                    y = rmse,\n",
    "                    mode = \"markers\",\n",
    "                    name = \"Highlight Point\",\n",
    "                    marker = dict(color = 'rgba(0, 255, 155, 1)')\n",
    ")\n",
    "\n",
    "data = [trace1,trace2]\n",
    "layout = dict(title = 'RMSE KARŞILAŞTIRMASI',\n",
    "              xaxis= dict(title= 'RMSE',ticklen= 10,zeroline= False),\n",
    "              yaxis= dict(title= 'Result',ticklen= 10,zeroline= False)\n",
    "             )\n",
    "fig = dict(data = data, layout = layout)\n",
    "iplot(fig)"
   ]
  },
  {
   "cell_type": "markdown",
   "metadata": {},
   "source": [
    "### Hocam bu notebook multi lineer'e kadardı. Yani class'lar tamdı ama ben multi_lineer fonksiyonuna kadar çalıştırıp öyle yüklemiştim yetiştiremediğim için.Yarım bırakmamak adına tamamladım ve güncelledim.\n",
    "\n",
    "### Biraz geç güncellediğim için kabul etmezseniz class'larım tamdı ve multi lineer'e kadar kodlarımı çalıştırmıştım hocam.\n",
    "\n",
    "### Saygılarımla"
   ]
  },
  {
   "cell_type": "code",
   "execution_count": null,
   "metadata": {},
   "outputs": [],
   "source": []
  }
 ],
 "metadata": {
  "kernelspec": {
   "display_name": "Python 3",
   "language": "python",
   "name": "python3"
  },
  "language_info": {
   "codemirror_mode": {
    "name": "ipython",
    "version": 3
   },
   "file_extension": ".py",
   "mimetype": "text/x-python",
   "name": "python",
   "nbconvert_exporter": "python",
   "pygments_lexer": "ipython3",
   "version": "3.7.1"
  }
 },
 "nbformat": 4,
 "nbformat_minor": 2
}
